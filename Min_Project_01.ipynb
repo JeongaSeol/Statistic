{
  "nbformat": 4,
  "nbformat_minor": 0,
  "metadata": {
    "colab": {
      "name": "Min_Project.ipynb",
      "provenance": []
    },
    "kernelspec": {
      "name": "python3",
      "display_name": "Python 3"
    },
    "language_info": {
      "name": "python"
    }
  },
  "cells": [
    {
      "cell_type": "markdown",
      "metadata": {
        "id": "t1PU8Gq9V5Uu"
      },
      "source": [
        "# '운동을 하지 않는 이유' 통계 분석"
      ]
    },
    {
      "cell_type": "markdown",
      "metadata": {
        "id": "-4et3hWjV971"
      },
      "source": [
        "## 0. 한글폰트 설치 및 사용\n",
        "\n"
      ]
    },
    {
      "cell_type": "markdown",
      "metadata": {
        "id": "BJvIyy0JWHqR"
      },
      "source": [
        "### 1. 한글 폰트 설치\n",
        "* 설치 후 **'런타임 다시 시작'**"
      ]
    },
    {
      "cell_type": "code",
      "metadata": {
        "colab": {
          "base_uri": "https://localhost:8080/"
        },
        "id": "Dytv9GP4VkSq",
        "outputId": "e9e58c54-37dc-4d94-84a7-1de09219c764"
      },
      "source": [
        "!apt-get update\n",
        "!apt-get install -y fonts-nanum\n",
        "!fc-chche -fv\n",
        "!rm ~/.cache/matplotlib -rf"
      ],
      "execution_count": 1,
      "outputs": [
        {
          "output_type": "stream",
          "text": [
            "\r0% [Working]\r            \rGet:1 http://security.ubuntu.com/ubuntu bionic-security InRelease [88.7 kB]\n",
            "Get:2 https://cloud.r-project.org/bin/linux/ubuntu bionic-cran40/ InRelease [3,626 B]\n",
            "Ign:3 https://developer.download.nvidia.com/compute/cuda/repos/ubuntu1804/x86_64  InRelease\n",
            "Get:4 http://ppa.launchpad.net/c2d4u.team/c2d4u4.0+/ubuntu bionic InRelease [15.9 kB]\n",
            "Ign:5 https://developer.download.nvidia.com/compute/machine-learning/repos/ubuntu1804/x86_64  InRelease\n",
            "Get:6 https://developer.download.nvidia.com/compute/cuda/repos/ubuntu1804/x86_64  Release [697 B]\n",
            "Hit:7 https://developer.download.nvidia.com/compute/machine-learning/repos/ubuntu1804/x86_64  Release\n",
            "Get:8 https://developer.download.nvidia.com/compute/cuda/repos/ubuntu1804/x86_64  Release.gpg [836 B]\n",
            "Hit:9 http://archive.ubuntu.com/ubuntu bionic InRelease\n",
            "Get:10 http://archive.ubuntu.com/ubuntu bionic-updates InRelease [88.7 kB]\n",
            "Hit:11 http://ppa.launchpad.net/cran/libgit2/ubuntu bionic InRelease\n",
            "Get:12 https://cloud.r-project.org/bin/linux/ubuntu bionic-cran40/ Packages [66.2 kB]\n",
            "Get:13 http://ppa.launchpad.net/deadsnakes/ppa/ubuntu bionic InRelease [15.9 kB]\n",
            "Get:14 http://archive.ubuntu.com/ubuntu bionic-backports InRelease [74.6 kB]\n",
            "Get:15 http://ppa.launchpad.net/graphics-drivers/ppa/ubuntu bionic InRelease [21.3 kB]\n",
            "Get:16 http://security.ubuntu.com/ubuntu bionic-security/universe amd64 Packages [1,421 kB]\n",
            "Get:17 http://security.ubuntu.com/ubuntu bionic-security/multiverse amd64 Packages [26.7 kB]\n",
            "Get:18 http://security.ubuntu.com/ubuntu bionic-security/restricted amd64 Packages [510 kB]\n",
            "Get:19 http://security.ubuntu.com/ubuntu bionic-security/main amd64 Packages [2,263 kB]\n",
            "Ign:21 https://developer.download.nvidia.com/compute/cuda/repos/ubuntu1804/x86_64  Packages\n",
            "Get:21 https://developer.download.nvidia.com/compute/cuda/repos/ubuntu1804/x86_64  Packages [695 kB]\n",
            "Get:22 http://ppa.launchpad.net/c2d4u.team/c2d4u4.0+/ubuntu bionic/main Sources [1,786 kB]\n",
            "Get:23 http://archive.ubuntu.com/ubuntu bionic-updates/universe amd64 Packages [2,196 kB]\n",
            "Get:24 http://ppa.launchpad.net/c2d4u.team/c2d4u4.0+/ubuntu bionic/main amd64 Packages [914 kB]\n",
            "Get:25 http://archive.ubuntu.com/ubuntu bionic-updates/restricted amd64 Packages [544 kB]\n",
            "Get:26 http://archive.ubuntu.com/ubuntu bionic-updates/main amd64 Packages [2,699 kB]\n",
            "Get:27 http://archive.ubuntu.com/ubuntu bionic-updates/multiverse amd64 Packages [39.4 kB]\n",
            "Get:28 http://ppa.launchpad.net/deadsnakes/ppa/ubuntu bionic/main amd64 Packages [40.9 kB]\n",
            "Get:29 http://ppa.launchpad.net/graphics-drivers/ppa/ubuntu bionic/main amd64 Packages [44.1 kB]\n",
            "Fetched 13.6 MB in 4s (3,028 kB/s)\n",
            "Reading package lists... Done\n",
            "Reading package lists... Done\n",
            "Building dependency tree       \n",
            "Reading state information... Done\n",
            "The following NEW packages will be installed:\n",
            "  fonts-nanum\n",
            "0 upgraded, 1 newly installed, 0 to remove and 107 not upgraded.\n",
            "Need to get 9,604 kB of archives.\n",
            "After this operation, 29.5 MB of additional disk space will be used.\n",
            "Get:1 http://archive.ubuntu.com/ubuntu bionic/universe amd64 fonts-nanum all 20170925-1 [9,604 kB]\n",
            "Fetched 9,604 kB in 1s (6,921 kB/s)\n",
            "Selecting previously unselected package fonts-nanum.\n",
            "(Reading database ... 160837 files and directories currently installed.)\n",
            "Preparing to unpack .../fonts-nanum_20170925-1_all.deb ...\n",
            "Unpacking fonts-nanum (20170925-1) ...\n",
            "Setting up fonts-nanum (20170925-1) ...\n",
            "Processing triggers for fontconfig (2.12.6-0ubuntu2) ...\n",
            "/bin/bash: fc-chche: command not found\n"
          ],
          "name": "stdout"
        }
      ]
    },
    {
      "cell_type": "markdown",
      "metadata": {
        "id": "wR6bR3spWWkz"
      },
      "source": [
        "### 2. 한글 폰트 사용\n"
      ]
    },
    {
      "cell_type": "code",
      "metadata": {
        "id": "duvGEzVFVwyq"
      },
      "source": [
        "import matplotlib as mpl\n",
        "import matplotlib.pyplot as plt\n",
        "mpl.rcParams['axes.unicode_minus']=False\n",
        "plt.rc('font', family='NanumBarunGothic')"
      ],
      "execution_count": 2,
      "outputs": []
    },
    {
      "cell_type": "markdown",
      "metadata": {
        "id": "LEV724zGW1-A"
      },
      "source": [
        "## 1. Data Preprocessing"
      ]
    },
    {
      "cell_type": "code",
      "metadata": {
        "id": "RSHKgqwsWwZK"
      },
      "source": [
        "import warnings\n",
        "warnings.filterwarnings('ignore')"
      ],
      "execution_count": 3,
      "outputs": []
    },
    {
      "cell_type": "markdown",
      "metadata": {
        "id": "kLzTltAfW_a0"
      },
      "source": [
        "### 1) Colab 파일 업로드\n",
        "* notExercise.xls"
      ]
    },
    {
      "cell_type": "code",
      "metadata": {
        "colab": {
          "base_uri": "https://localhost:8080/"
        },
        "id": "DEGFBoeuW-jR",
        "outputId": "db4b4b6f-3924-47f9-ac15-1fa2697db3f6"
      },
      "source": [
        "!ls -l"
      ],
      "execution_count": 7,
      "outputs": [
        {
          "output_type": "stream",
          "text": [
            "total 20\n",
            "-rw-r--r-- 1 root root 16384 Aug 13 02:34 notExercise.xls\n",
            "drwxr-xr-x 1 root root  4096 Jul 16 13:20 sample_data\n"
          ],
          "name": "stdout"
        }
      ]
    },
    {
      "cell_type": "markdown",
      "metadata": {
        "id": "t6DS_J8wXZm8"
      },
      "source": [
        "### 2) xls파일 읽어오기"
      ]
    },
    {
      "cell_type": "code",
      "metadata": {
        "colab": {
          "base_uri": "https://localhost:8080/",
          "height": 272
        },
        "id": "3_d0R13LXF24",
        "outputId": "4acc5c9e-4c94-4232-f8da-3c663c91117d"
      },
      "source": [
        "import pandas as pd\n",
        "\n",
        "DF = pd.read_excel('notExercise.xls')\n",
        "\n",
        "DF.head()"
      ],
      "execution_count": 8,
      "outputs": [
        {
          "output_type": "execute_result",
          "data": {
            "text/html": [
              "<div>\n",
              "<style scoped>\n",
              "    .dataframe tbody tr th:only-of-type {\n",
              "        vertical-align: middle;\n",
              "    }\n",
              "\n",
              "    .dataframe tbody tr th {\n",
              "        vertical-align: top;\n",
              "    }\n",
              "\n",
              "    .dataframe thead th {\n",
              "        text-align: right;\n",
              "    }\n",
              "</style>\n",
              "<table border=\"1\" class=\"dataframe\">\n",
              "  <thead>\n",
              "    <tr style=\"text-align: right;\">\n",
              "      <th></th>\n",
              "      <th>기간</th>\n",
              "      <th>대분류</th>\n",
              "      <th>분류</th>\n",
              "      <th>운동을 할 충분한 시간이 없어서</th>\n",
              "      <th>함께 운동을 할 사람이 없어서</th>\n",
              "      <th>운동을 할 만한 장소가 없어서</th>\n",
              "      <th>운동을 싫어해서</th>\n",
              "      <th>기타</th>\n",
              "    </tr>\n",
              "  </thead>\n",
              "  <tbody>\n",
              "    <tr>\n",
              "      <th>0</th>\n",
              "      <td>2017</td>\n",
              "      <td>서울시</td>\n",
              "      <td>서울시</td>\n",
              "      <td>49.7</td>\n",
              "      <td>8.1</td>\n",
              "      <td>5.8</td>\n",
              "      <td>34.7</td>\n",
              "      <td>1.7</td>\n",
              "    </tr>\n",
              "    <tr>\n",
              "      <th>1</th>\n",
              "      <td>2017</td>\n",
              "      <td>성별</td>\n",
              "      <td>남자</td>\n",
              "      <td>55.2</td>\n",
              "      <td>7.9</td>\n",
              "      <td>5.5</td>\n",
              "      <td>29.8</td>\n",
              "      <td>1.6</td>\n",
              "    </tr>\n",
              "    <tr>\n",
              "      <th>2</th>\n",
              "      <td>2017</td>\n",
              "      <td>성별</td>\n",
              "      <td>여자</td>\n",
              "      <td>45.0</td>\n",
              "      <td>8.3</td>\n",
              "      <td>6.0</td>\n",
              "      <td>38.8</td>\n",
              "      <td>1.8</td>\n",
              "    </tr>\n",
              "    <tr>\n",
              "      <th>3</th>\n",
              "      <td>2017</td>\n",
              "      <td>연령별</td>\n",
              "      <td>10대</td>\n",
              "      <td>55.7</td>\n",
              "      <td>6.1</td>\n",
              "      <td>5.6</td>\n",
              "      <td>32.2</td>\n",
              "      <td>0.3</td>\n",
              "    </tr>\n",
              "    <tr>\n",
              "      <th>4</th>\n",
              "      <td>2017</td>\n",
              "      <td>연령별</td>\n",
              "      <td>20대</td>\n",
              "      <td>54.8</td>\n",
              "      <td>6.9</td>\n",
              "      <td>5.2</td>\n",
              "      <td>32.9</td>\n",
              "      <td>0.1</td>\n",
              "    </tr>\n",
              "  </tbody>\n",
              "</table>\n",
              "</div>"
            ],
            "text/plain": [
              "     기간  대분류   분류  ...  운동을 할 만한 장소가 없어서 운동을 싫어해서   기타\n",
              "0  2017  서울시  서울시  ...               5.8     34.7  1.7\n",
              "1  2017   성별   남자  ...               5.5     29.8  1.6\n",
              "2  2017   성별   여자  ...               6.0     38.8  1.8\n",
              "3  2017  연령별  10대  ...               5.6     32.2  0.3\n",
              "4  2017  연령별  20대  ...               5.2     32.9  0.1\n",
              "\n",
              "[5 rows x 8 columns]"
            ]
          },
          "metadata": {
            "tags": []
          },
          "execution_count": 8
        }
      ]
    },
    {
      "cell_type": "markdown",
      "metadata": {
        "id": "M4BbiSzVXj36"
      },
      "source": [
        "### 3) '기간'열(column) 삭제 "
      ]
    },
    {
      "cell_type": "code",
      "metadata": {
        "colab": {
          "base_uri": "https://localhost:8080/",
          "height": 306
        },
        "id": "R1uZ56aFXhcx",
        "outputId": "78075ecf-21df-45fe-c0f7-c6950118450d"
      },
      "source": [
        "DF.drop(columns='기간', inplace=True)       # inplace가 False(Default)면 업데이트하는 것이 아니라 복사본 return\n",
        "                                            # inplace가 True면 데이터가 바로 변경. 즉, 업데이트 되고 None return\n",
        "\n",
        "DF.tail()                              "
      ],
      "execution_count": 9,
      "outputs": [
        {
          "output_type": "execute_result",
          "data": {
            "text/html": [
              "<div>\n",
              "<style scoped>\n",
              "    .dataframe tbody tr th:only-of-type {\n",
              "        vertical-align: middle;\n",
              "    }\n",
              "\n",
              "    .dataframe tbody tr th {\n",
              "        vertical-align: top;\n",
              "    }\n",
              "\n",
              "    .dataframe thead th {\n",
              "        text-align: right;\n",
              "    }\n",
              "</style>\n",
              "<table border=\"1\" class=\"dataframe\">\n",
              "  <thead>\n",
              "    <tr style=\"text-align: right;\">\n",
              "      <th></th>\n",
              "      <th>대분류</th>\n",
              "      <th>분류</th>\n",
              "      <th>운동을 할 충분한 시간이 없어서</th>\n",
              "      <th>함께 운동을 할 사람이 없어서</th>\n",
              "      <th>운동을 할 만한 장소가 없어서</th>\n",
              "      <th>운동을 싫어해서</th>\n",
              "      <th>기타</th>\n",
              "    </tr>\n",
              "  </thead>\n",
              "  <tbody>\n",
              "    <tr>\n",
              "      <th>48</th>\n",
              "      <td>관악구</td>\n",
              "      <td>관악구</td>\n",
              "      <td>50.7</td>\n",
              "      <td>7.1</td>\n",
              "      <td>6.9</td>\n",
              "      <td>33.6</td>\n",
              "      <td>1.7</td>\n",
              "    </tr>\n",
              "    <tr>\n",
              "      <th>49</th>\n",
              "      <td>서초구</td>\n",
              "      <td>서초구</td>\n",
              "      <td>59.8</td>\n",
              "      <td>3.4</td>\n",
              "      <td>3.2</td>\n",
              "      <td>32.0</td>\n",
              "      <td>1.5</td>\n",
              "    </tr>\n",
              "    <tr>\n",
              "      <th>50</th>\n",
              "      <td>강남구</td>\n",
              "      <td>강남구</td>\n",
              "      <td>59.1</td>\n",
              "      <td>5.5</td>\n",
              "      <td>2.6</td>\n",
              "      <td>31.5</td>\n",
              "      <td>1.3</td>\n",
              "    </tr>\n",
              "    <tr>\n",
              "      <th>51</th>\n",
              "      <td>송파구</td>\n",
              "      <td>송파구</td>\n",
              "      <td>42.6</td>\n",
              "      <td>7.2</td>\n",
              "      <td>5.8</td>\n",
              "      <td>44.3</td>\n",
              "      <td>0.1</td>\n",
              "    </tr>\n",
              "    <tr>\n",
              "      <th>52</th>\n",
              "      <td>강동구</td>\n",
              "      <td>강동구</td>\n",
              "      <td>53.1</td>\n",
              "      <td>9.6</td>\n",
              "      <td>6.8</td>\n",
              "      <td>30.4</td>\n",
              "      <td>0.1</td>\n",
              "    </tr>\n",
              "  </tbody>\n",
              "</table>\n",
              "</div>"
            ],
            "text/plain": [
              "    대분류   분류  운동을 할 충분한 시간이 없어서  ... 운동을 할 만한 장소가 없어서  운동을 싫어해서   기타\n",
              "48  관악구  관악구               50.7  ...              6.9      33.6  1.7\n",
              "49  서초구  서초구               59.8  ...              3.2      32.0  1.5\n",
              "50  강남구  강남구               59.1  ...              2.6      31.5  1.3\n",
              "51  송파구  송파구               42.6  ...              5.8      44.3  0.1\n",
              "52  강동구  강동구               53.1  ...              6.8      30.4  0.1\n",
              "\n",
              "[5 rows x 7 columns]"
            ]
          },
          "metadata": {
            "tags": []
          },
          "execution_count": 9
        }
      ]
    },
    {
      "cell_type": "markdown",
      "metadata": {
        "id": "lGov7-rOZm-g"
      },
      "source": [
        "### 4) 23~52번(지역분류)index 삭제\n",
        "* 23~52 '대분류' 정보 확인"
      ]
    },
    {
      "cell_type": "code",
      "metadata": {
        "colab": {
          "base_uri": "https://localhost:8080/"
        },
        "id": "bDeNV92fZlYP",
        "outputId": "293960f5-996c-4aa2-ffcc-53efea3255d3"
      },
      "source": [
        "DF['대분류'][23:]"
      ],
      "execution_count": 10,
      "outputs": [
        {
          "output_type": "execute_result",
          "data": {
            "text/plain": [
              "23    지역대분류\n",
              "24    지역대분류\n",
              "25    지역대분류\n",
              "26    지역대분류\n",
              "27    지역대분류\n",
              "28      종로구\n",
              "29       중구\n",
              "30      용산구\n",
              "31      성동구\n",
              "32      광진구\n",
              "33     동대문구\n",
              "34      중랑구\n",
              "35      성북구\n",
              "36      강북구\n",
              "37      도봉구\n",
              "38      노원구\n",
              "39      은평구\n",
              "40     서대문구\n",
              "41      마포구\n",
              "42      양천구\n",
              "43      강서구\n",
              "44      구로구\n",
              "45      금천구\n",
              "46     영등포구\n",
              "47      동작구\n",
              "48      관악구\n",
              "49      서초구\n",
              "50      강남구\n",
              "51      송파구\n",
              "52      강동구\n",
              "Name: 대분류, dtype: object"
            ]
          },
          "metadata": {
            "tags": []
          },
          "execution_count": 10
        }
      ]
    },
    {
      "cell_type": "markdown",
      "metadata": {
        "id": "SIu1Zs6BaBX-"
      },
      "source": [
        "* 23~52 행(row) 삭제 \n",
        "    * 데이터 분석에 불필요"
      ]
    },
    {
      "cell_type": "code",
      "metadata": {
        "colab": {
          "base_uri": "https://localhost:8080/",
          "height": 915
        },
        "id": "yxI_FtWuZ8aG",
        "outputId": "7ed4096d-fa7d-4219-fe0e-ae669ca74058"
      },
      "source": [
        "DF.drop(index=range(23,53), inplace = True)\n",
        "DF"
      ],
      "execution_count": 11,
      "outputs": [
        {
          "output_type": "execute_result",
          "data": {
            "text/html": [
              "<div>\n",
              "<style scoped>\n",
              "    .dataframe tbody tr th:only-of-type {\n",
              "        vertical-align: middle;\n",
              "    }\n",
              "\n",
              "    .dataframe tbody tr th {\n",
              "        vertical-align: top;\n",
              "    }\n",
              "\n",
              "    .dataframe thead th {\n",
              "        text-align: right;\n",
              "    }\n",
              "</style>\n",
              "<table border=\"1\" class=\"dataframe\">\n",
              "  <thead>\n",
              "    <tr style=\"text-align: right;\">\n",
              "      <th></th>\n",
              "      <th>대분류</th>\n",
              "      <th>분류</th>\n",
              "      <th>운동을 할 충분한 시간이 없어서</th>\n",
              "      <th>함께 운동을 할 사람이 없어서</th>\n",
              "      <th>운동을 할 만한 장소가 없어서</th>\n",
              "      <th>운동을 싫어해서</th>\n",
              "      <th>기타</th>\n",
              "    </tr>\n",
              "  </thead>\n",
              "  <tbody>\n",
              "    <tr>\n",
              "      <th>0</th>\n",
              "      <td>서울시</td>\n",
              "      <td>서울시</td>\n",
              "      <td>49.7</td>\n",
              "      <td>8.1</td>\n",
              "      <td>5.8</td>\n",
              "      <td>34.7</td>\n",
              "      <td>1.7</td>\n",
              "    </tr>\n",
              "    <tr>\n",
              "      <th>1</th>\n",
              "      <td>성별</td>\n",
              "      <td>남자</td>\n",
              "      <td>55.2</td>\n",
              "      <td>7.9</td>\n",
              "      <td>5.5</td>\n",
              "      <td>29.8</td>\n",
              "      <td>1.6</td>\n",
              "    </tr>\n",
              "    <tr>\n",
              "      <th>2</th>\n",
              "      <td>성별</td>\n",
              "      <td>여자</td>\n",
              "      <td>45.0</td>\n",
              "      <td>8.3</td>\n",
              "      <td>6.0</td>\n",
              "      <td>38.8</td>\n",
              "      <td>1.8</td>\n",
              "    </tr>\n",
              "    <tr>\n",
              "      <th>3</th>\n",
              "      <td>연령별</td>\n",
              "      <td>10대</td>\n",
              "      <td>55.7</td>\n",
              "      <td>6.1</td>\n",
              "      <td>5.6</td>\n",
              "      <td>32.2</td>\n",
              "      <td>0.3</td>\n",
              "    </tr>\n",
              "    <tr>\n",
              "      <th>4</th>\n",
              "      <td>연령별</td>\n",
              "      <td>20대</td>\n",
              "      <td>54.8</td>\n",
              "      <td>6.9</td>\n",
              "      <td>5.2</td>\n",
              "      <td>32.9</td>\n",
              "      <td>0.1</td>\n",
              "    </tr>\n",
              "    <tr>\n",
              "      <th>5</th>\n",
              "      <td>연령별</td>\n",
              "      <td>30대</td>\n",
              "      <td>58.1</td>\n",
              "      <td>5.5</td>\n",
              "      <td>4.6</td>\n",
              "      <td>31.6</td>\n",
              "      <td>0.2</td>\n",
              "    </tr>\n",
              "    <tr>\n",
              "      <th>6</th>\n",
              "      <td>연령별</td>\n",
              "      <td>40대</td>\n",
              "      <td>57.7</td>\n",
              "      <td>6.8</td>\n",
              "      <td>5.2</td>\n",
              "      <td>29.4</td>\n",
              "      <td>1</td>\n",
              "    </tr>\n",
              "    <tr>\n",
              "      <th>7</th>\n",
              "      <td>연령별</td>\n",
              "      <td>50대</td>\n",
              "      <td>50.1</td>\n",
              "      <td>9.2</td>\n",
              "      <td>7.2</td>\n",
              "      <td>32.2</td>\n",
              "      <td>1.4</td>\n",
              "    </tr>\n",
              "    <tr>\n",
              "      <th>8</th>\n",
              "      <td>연령별</td>\n",
              "      <td>60대 이상</td>\n",
              "      <td>27.5</td>\n",
              "      <td>12.8</td>\n",
              "      <td>6.9</td>\n",
              "      <td>46.8</td>\n",
              "      <td>6</td>\n",
              "    </tr>\n",
              "    <tr>\n",
              "      <th>9</th>\n",
              "      <td>학력별</td>\n",
              "      <td>중졸 이하</td>\n",
              "      <td>26.1</td>\n",
              "      <td>13.7</td>\n",
              "      <td>6.6</td>\n",
              "      <td>46.2</td>\n",
              "      <td>7.4</td>\n",
              "    </tr>\n",
              "    <tr>\n",
              "      <th>10</th>\n",
              "      <td>학력별</td>\n",
              "      <td>고졸 이하</td>\n",
              "      <td>46.3</td>\n",
              "      <td>8.5</td>\n",
              "      <td>6.9</td>\n",
              "      <td>36.5</td>\n",
              "      <td>1.7</td>\n",
              "    </tr>\n",
              "    <tr>\n",
              "      <th>11</th>\n",
              "      <td>학력별</td>\n",
              "      <td>대졸 이하</td>\n",
              "      <td>57.4</td>\n",
              "      <td>6.6</td>\n",
              "      <td>4.9</td>\n",
              "      <td>30.7</td>\n",
              "      <td>0.4</td>\n",
              "    </tr>\n",
              "    <tr>\n",
              "      <th>12</th>\n",
              "      <td>학력별</td>\n",
              "      <td>대학원 이상</td>\n",
              "      <td>65.3</td>\n",
              "      <td>3.8</td>\n",
              "      <td>0.6</td>\n",
              "      <td>29.6</td>\n",
              "      <td>0.6</td>\n",
              "    </tr>\n",
              "    <tr>\n",
              "      <th>13</th>\n",
              "      <td>소득별</td>\n",
              "      <td>100만원 미만</td>\n",
              "      <td>22.7</td>\n",
              "      <td>10.3</td>\n",
              "      <td>3.6</td>\n",
              "      <td>50.7</td>\n",
              "      <td>12.7</td>\n",
              "    </tr>\n",
              "    <tr>\n",
              "      <th>14</th>\n",
              "      <td>소득별</td>\n",
              "      <td>100-200만원 미만</td>\n",
              "      <td>34.3</td>\n",
              "      <td>11.5</td>\n",
              "      <td>7.1</td>\n",
              "      <td>41.5</td>\n",
              "      <td>5.6</td>\n",
              "    </tr>\n",
              "    <tr>\n",
              "      <th>15</th>\n",
              "      <td>소득별</td>\n",
              "      <td>200-300만원 미만</td>\n",
              "      <td>48.8</td>\n",
              "      <td>12.3</td>\n",
              "      <td>6.8</td>\n",
              "      <td>30.7</td>\n",
              "      <td>1.4</td>\n",
              "    </tr>\n",
              "    <tr>\n",
              "      <th>16</th>\n",
              "      <td>소득별</td>\n",
              "      <td>300-400만원 미만</td>\n",
              "      <td>54.9</td>\n",
              "      <td>7.1</td>\n",
              "      <td>6.5</td>\n",
              "      <td>31.2</td>\n",
              "      <td>0.3</td>\n",
              "    </tr>\n",
              "    <tr>\n",
              "      <th>17</th>\n",
              "      <td>소득별</td>\n",
              "      <td>400-500만원 미만</td>\n",
              "      <td>56.1</td>\n",
              "      <td>5</td>\n",
              "      <td>5.3</td>\n",
              "      <td>33.0</td>\n",
              "      <td>0.6</td>\n",
              "    </tr>\n",
              "    <tr>\n",
              "      <th>18</th>\n",
              "      <td>소득별</td>\n",
              "      <td>500만원 이상</td>\n",
              "      <td>52.3</td>\n",
              "      <td>7.1</td>\n",
              "      <td>5.1</td>\n",
              "      <td>34.9</td>\n",
              "      <td>0.6</td>\n",
              "    </tr>\n",
              "    <tr>\n",
              "      <th>19</th>\n",
              "      <td>혼인상태별</td>\n",
              "      <td>기혼</td>\n",
              "      <td>50.7</td>\n",
              "      <td>7.8</td>\n",
              "      <td>5.4</td>\n",
              "      <td>34.9</td>\n",
              "      <td>1.2</td>\n",
              "    </tr>\n",
              "    <tr>\n",
              "      <th>20</th>\n",
              "      <td>혼인상태별</td>\n",
              "      <td>미혼</td>\n",
              "      <td>54.3</td>\n",
              "      <td>7.1</td>\n",
              "      <td>5.4</td>\n",
              "      <td>32.2</td>\n",
              "      <td>1</td>\n",
              "    </tr>\n",
              "    <tr>\n",
              "      <th>21</th>\n",
              "      <td>혼인상태별</td>\n",
              "      <td>이혼/별거</td>\n",
              "      <td>47.4</td>\n",
              "      <td>8.3</td>\n",
              "      <td>6.8</td>\n",
              "      <td>34.9</td>\n",
              "      <td>2.7</td>\n",
              "    </tr>\n",
              "    <tr>\n",
              "      <th>22</th>\n",
              "      <td>혼인상태별</td>\n",
              "      <td>사별</td>\n",
              "      <td>25.2</td>\n",
              "      <td>14.9</td>\n",
              "      <td>8.9</td>\n",
              "      <td>42.9</td>\n",
              "      <td>8</td>\n",
              "    </tr>\n",
              "  </tbody>\n",
              "</table>\n",
              "</div>"
            ],
            "text/plain": [
              "      대분류            분류  운동을 할 충분한 시간이 없어서  ... 운동을 할 만한 장소가 없어서  운동을 싫어해서    기타\n",
              "0     서울시           서울시               49.7  ...              5.8      34.7   1.7\n",
              "1      성별            남자               55.2  ...              5.5      29.8   1.6\n",
              "2      성별            여자               45.0  ...              6.0      38.8   1.8\n",
              "3     연령별           10대               55.7  ...              5.6      32.2   0.3\n",
              "4     연령별           20대               54.8  ...              5.2      32.9   0.1\n",
              "5     연령별           30대               58.1  ...              4.6      31.6   0.2\n",
              "6     연령별           40대               57.7  ...              5.2      29.4     1\n",
              "7     연령별           50대               50.1  ...              7.2      32.2   1.4\n",
              "8     연령별        60대 이상               27.5  ...              6.9      46.8     6\n",
              "9     학력별         중졸 이하               26.1  ...              6.6      46.2   7.4\n",
              "10    학력별         고졸 이하               46.3  ...              6.9      36.5   1.7\n",
              "11    학력별         대졸 이하               57.4  ...              4.9      30.7   0.4\n",
              "12    학력별        대학원 이상               65.3  ...              0.6      29.6   0.6\n",
              "13    소득별      100만원 미만               22.7  ...              3.6      50.7  12.7\n",
              "14    소득별  100-200만원 미만               34.3  ...              7.1      41.5   5.6\n",
              "15    소득별  200-300만원 미만               48.8  ...              6.8      30.7   1.4\n",
              "16    소득별  300-400만원 미만               54.9  ...              6.5      31.2   0.3\n",
              "17    소득별  400-500만원 미만               56.1  ...              5.3      33.0   0.6\n",
              "18    소득별      500만원 이상               52.3  ...              5.1      34.9   0.6\n",
              "19  혼인상태별            기혼               50.7  ...              5.4      34.9   1.2\n",
              "20  혼인상태별            미혼               54.3  ...              5.4      32.2     1\n",
              "21  혼인상태별         이혼/별거               47.4  ...              6.8      34.9   2.7\n",
              "22  혼인상태별            사별               25.2  ...              8.9      42.9     8\n",
              "\n",
              "[23 rows x 7 columns]"
            ]
          },
          "metadata": {
            "tags": []
          },
          "execution_count": 11
        }
      ]
    },
    {
      "cell_type": "markdown",
      "metadata": {
        "id": "6QaL2OwVaR3A"
      },
      "source": [
        "## 2. '성별'통계"
      ]
    },
    {
      "cell_type": "markdown",
      "metadata": {
        "id": "1EZpG8JsaUar"
      },
      "source": [
        "### 1) '성별'데이터 추출"
      ]
    },
    {
      "cell_type": "code",
      "metadata": {
        "colab": {
          "base_uri": "https://localhost:8080/",
          "height": 162
        },
        "id": "dFD1AQUraMh-",
        "outputId": "f87d34e5-d9d4-41ca-b444-8846aa7e19b2"
      },
      "source": [
        "DF_G = DF[DF['대분류']=='성별'].copy()\n",
        "\n",
        "DF_G"
      ],
      "execution_count": 12,
      "outputs": [
        {
          "output_type": "execute_result",
          "data": {
            "text/html": [
              "<div>\n",
              "<style scoped>\n",
              "    .dataframe tbody tr th:only-of-type {\n",
              "        vertical-align: middle;\n",
              "    }\n",
              "\n",
              "    .dataframe tbody tr th {\n",
              "        vertical-align: top;\n",
              "    }\n",
              "\n",
              "    .dataframe thead th {\n",
              "        text-align: right;\n",
              "    }\n",
              "</style>\n",
              "<table border=\"1\" class=\"dataframe\">\n",
              "  <thead>\n",
              "    <tr style=\"text-align: right;\">\n",
              "      <th></th>\n",
              "      <th>대분류</th>\n",
              "      <th>분류</th>\n",
              "      <th>운동을 할 충분한 시간이 없어서</th>\n",
              "      <th>함께 운동을 할 사람이 없어서</th>\n",
              "      <th>운동을 할 만한 장소가 없어서</th>\n",
              "      <th>운동을 싫어해서</th>\n",
              "      <th>기타</th>\n",
              "    </tr>\n",
              "  </thead>\n",
              "  <tbody>\n",
              "    <tr>\n",
              "      <th>1</th>\n",
              "      <td>성별</td>\n",
              "      <td>남자</td>\n",
              "      <td>55.2</td>\n",
              "      <td>7.9</td>\n",
              "      <td>5.5</td>\n",
              "      <td>29.8</td>\n",
              "      <td>1.6</td>\n",
              "    </tr>\n",
              "    <tr>\n",
              "      <th>2</th>\n",
              "      <td>성별</td>\n",
              "      <td>여자</td>\n",
              "      <td>45.0</td>\n",
              "      <td>8.3</td>\n",
              "      <td>6.0</td>\n",
              "      <td>38.8</td>\n",
              "      <td>1.8</td>\n",
              "    </tr>\n",
              "  </tbody>\n",
              "</table>\n",
              "</div>"
            ],
            "text/plain": [
              "  대분류  분류  운동을 할 충분한 시간이 없어서 함께 운동을 할 사람이 없어서  운동을 할 만한 장소가 없어서  운동을 싫어해서   기타\n",
              "1  성별  남자               55.2              7.9               5.5      29.8  1.6\n",
              "2  성별  여자               45.0              8.3               6.0      38.8  1.8"
            ]
          },
          "metadata": {
            "tags": []
          },
          "execution_count": 12
        }
      ]
    },
    {
      "cell_type": "markdown",
      "metadata": {
        "id": "3sOs6YySahVx"
      },
      "source": [
        "### 2) '대분류'열(Column) 삭제"
      ]
    },
    {
      "cell_type": "code",
      "metadata": {
        "colab": {
          "base_uri": "https://localhost:8080/",
          "height": 128
        },
        "id": "Ty1A-CTRafS2",
        "outputId": "0eb6db09-544b-49ed-868a-943f1a0e40e5"
      },
      "source": [
        "DF_G.drop(columns='대분류', inplace=True)\n",
        "DF_G"
      ],
      "execution_count": 13,
      "outputs": [
        {
          "output_type": "execute_result",
          "data": {
            "text/html": [
              "<div>\n",
              "<style scoped>\n",
              "    .dataframe tbody tr th:only-of-type {\n",
              "        vertical-align: middle;\n",
              "    }\n",
              "\n",
              "    .dataframe tbody tr th {\n",
              "        vertical-align: top;\n",
              "    }\n",
              "\n",
              "    .dataframe thead th {\n",
              "        text-align: right;\n",
              "    }\n",
              "</style>\n",
              "<table border=\"1\" class=\"dataframe\">\n",
              "  <thead>\n",
              "    <tr style=\"text-align: right;\">\n",
              "      <th></th>\n",
              "      <th>분류</th>\n",
              "      <th>운동을 할 충분한 시간이 없어서</th>\n",
              "      <th>함께 운동을 할 사람이 없어서</th>\n",
              "      <th>운동을 할 만한 장소가 없어서</th>\n",
              "      <th>운동을 싫어해서</th>\n",
              "      <th>기타</th>\n",
              "    </tr>\n",
              "  </thead>\n",
              "  <tbody>\n",
              "    <tr>\n",
              "      <th>1</th>\n",
              "      <td>남자</td>\n",
              "      <td>55.2</td>\n",
              "      <td>7.9</td>\n",
              "      <td>5.5</td>\n",
              "      <td>29.8</td>\n",
              "      <td>1.6</td>\n",
              "    </tr>\n",
              "    <tr>\n",
              "      <th>2</th>\n",
              "      <td>여자</td>\n",
              "      <td>45.0</td>\n",
              "      <td>8.3</td>\n",
              "      <td>6.0</td>\n",
              "      <td>38.8</td>\n",
              "      <td>1.8</td>\n",
              "    </tr>\n",
              "  </tbody>\n",
              "</table>\n",
              "</div>"
            ],
            "text/plain": [
              "   분류  운동을 할 충분한 시간이 없어서 함께 운동을 할 사람이 없어서  운동을 할 만한 장소가 없어서  운동을 싫어해서   기타\n",
              "1  남자               55.2              7.9               5.5      29.8  1.6\n",
              "2  여자               45.0              8.3               6.0      38.8  1.8"
            ]
          },
          "metadata": {
            "tags": []
          },
          "execution_count": 13
        }
      ]
    },
    {
      "cell_type": "markdown",
      "metadata": {
        "id": "rqNW-LZmasZl"
      },
      "source": [
        "### 3) '분류'를 index로 지정"
      ]
    },
    {
      "cell_type": "code",
      "metadata": {
        "colab": {
          "base_uri": "https://localhost:8080/",
          "height": 176
        },
        "id": "VeoRGDgXaqyV",
        "outputId": "1813ad52-173c-4424-d075-608110ef5463"
      },
      "source": [
        "DF_G.set_index('분류', inplace=True)\n",
        "DF_G"
      ],
      "execution_count": 14,
      "outputs": [
        {
          "output_type": "execute_result",
          "data": {
            "text/html": [
              "<div>\n",
              "<style scoped>\n",
              "    .dataframe tbody tr th:only-of-type {\n",
              "        vertical-align: middle;\n",
              "    }\n",
              "\n",
              "    .dataframe tbody tr th {\n",
              "        vertical-align: top;\n",
              "    }\n",
              "\n",
              "    .dataframe thead th {\n",
              "        text-align: right;\n",
              "    }\n",
              "</style>\n",
              "<table border=\"1\" class=\"dataframe\">\n",
              "  <thead>\n",
              "    <tr style=\"text-align: right;\">\n",
              "      <th></th>\n",
              "      <th>운동을 할 충분한 시간이 없어서</th>\n",
              "      <th>함께 운동을 할 사람이 없어서</th>\n",
              "      <th>운동을 할 만한 장소가 없어서</th>\n",
              "      <th>운동을 싫어해서</th>\n",
              "      <th>기타</th>\n",
              "    </tr>\n",
              "    <tr>\n",
              "      <th>분류</th>\n",
              "      <th></th>\n",
              "      <th></th>\n",
              "      <th></th>\n",
              "      <th></th>\n",
              "      <th></th>\n",
              "    </tr>\n",
              "  </thead>\n",
              "  <tbody>\n",
              "    <tr>\n",
              "      <th>남자</th>\n",
              "      <td>55.2</td>\n",
              "      <td>7.9</td>\n",
              "      <td>5.5</td>\n",
              "      <td>29.8</td>\n",
              "      <td>1.6</td>\n",
              "    </tr>\n",
              "    <tr>\n",
              "      <th>여자</th>\n",
              "      <td>45.0</td>\n",
              "      <td>8.3</td>\n",
              "      <td>6.0</td>\n",
              "      <td>38.8</td>\n",
              "      <td>1.8</td>\n",
              "    </tr>\n",
              "  </tbody>\n",
              "</table>\n",
              "</div>"
            ],
            "text/plain": [
              "    운동을 할 충분한 시간이 없어서 함께 운동을 할 사람이 없어서  운동을 할 만한 장소가 없어서  운동을 싫어해서   기타\n",
              "분류                                                                     \n",
              "남자               55.2              7.9               5.5      29.8  1.6\n",
              "여자               45.0              8.3               6.0      38.8  1.8"
            ]
          },
          "metadata": {
            "tags": []
          },
          "execution_count": 14
        }
      ]
    },
    {
      "cell_type": "markdown",
      "metadata": {
        "id": "zbhwkvxPa8X3"
      },
      "source": [
        "### 4) matplotlib 시각화"
      ]
    },
    {
      "cell_type": "code",
      "metadata": {
        "colab": {
          "base_uri": "https://localhost:8080/",
          "height": 589
        },
        "id": "ibP-Cfx9a45d",
        "outputId": "9b66e013-c054-4af3-85fc-5486785b0940"
      },
      "source": [
        "figure, ax = plt.subplots(2,2, figsize = (10,10))\n",
        "\n",
        "DF_G['운동을 할 충분한 시간이 없어서'].plot.pie(explode=[0,0.02], ax = ax[0][0], autopct = '%1.1f%%')\n",
        "    # explode = 파이 차트에서 각 항목 당 분리되는 정도 \n",
        "    # autopct = 소수점 자리수 표현\n",
        "ax[0][0].set_title('운동을 할 충분한 시간이 없어서')    \n",
        "ax[0][0].set_ylabel('')\n",
        "\n",
        "DF_G['함께 운동을 할 사람이 없어서'].plot.pie(explode=[0,0.02],ax=ax[0][1], autopct='%1.1f%%')\n",
        "ax[0][1].set_title('함께 운동을 할 사람이 없어서')\n",
        "ax[0][1].set_ylabel('')\n",
        "\n",
        "DF_G['운동을 싫어해서'].plot.pie(explode=[0,0.02], ax=ax[1][0], autopct = '%1.1f%%')\n",
        "ax[1][0].set_title('운동을 싫어해서')\n",
        "ax[1][0].set_ylabel('')\n",
        "\n",
        "DF_G['운동을 할 만한 장소가 없어서'].plot.pie(explode=[0,0.02], ax=ax[1][1], autopct='%1.1f%%')\n",
        "ax[1][1].set_title('운동을 할 만한 장소가 없어서')\n",
        "ax[1][1].set_ylabel('')\n",
        "\n",
        "plt.show()"
      ],
      "execution_count": 25,
      "outputs": [
        {
          "output_type": "display_data",
          "data": {
            "image/png": "[encoded data removed]",
            "text/plain": [
              "<Figure size 720x720 with 4 Axes>"
            ]
          },
          "metadata": {
            "tags": []
          }
        }
      ]
    },
    {
      "cell_type": "markdown",
      "metadata": {
        "id": "_QExkvE7vz-4"
      },
      "source": [
        "## 3. '연령별'통계\n",
        "\n",
        "### 1) '연령별' 데이터 추출"
      ]
    },
    {
      "cell_type": "code",
      "metadata": {
        "colab": {
          "base_uri": "https://localhost:8080/",
          "height": 300
        },
        "id": "y2U5TojksRkm",
        "outputId": "27c8cd2b-c242-446a-c65d-0b902b726ad7"
      },
      "source": [
        "DF_A = DF[DF['대분류']=='연령별'].copy()\n",
        "DF_A.drop(columns='대분류', inplace=True)\n",
        "DF_A.set_index('분류', inplace=True)\n",
        "\n",
        "DF_A"
      ],
      "execution_count": 26,
      "outputs": [
        {
          "output_type": "execute_result",
          "data": {
            "text/html": [
              "<div>\n",
              "<style scoped>\n",
              "    .dataframe tbody tr th:only-of-type {\n",
              "        vertical-align: middle;\n",
              "    }\n",
              "\n",
              "    .dataframe tbody tr th {\n",
              "        vertical-align: top;\n",
              "    }\n",
              "\n",
              "    .dataframe thead th {\n",
              "        text-align: right;\n",
              "    }\n",
              "</style>\n",
              "<table border=\"1\" class=\"dataframe\">\n",
              "  <thead>\n",
              "    <tr style=\"text-align: right;\">\n",
              "      <th></th>\n",
              "      <th>운동을 할 충분한 시간이 없어서</th>\n",
              "      <th>함께 운동을 할 사람이 없어서</th>\n",
              "      <th>운동을 할 만한 장소가 없어서</th>\n",
              "      <th>운동을 싫어해서</th>\n",
              "      <th>기타</th>\n",
              "    </tr>\n",
              "    <tr>\n",
              "      <th>분류</th>\n",
              "      <th></th>\n",
              "      <th></th>\n",
              "      <th></th>\n",
              "      <th></th>\n",
              "      <th></th>\n",
              "    </tr>\n",
              "  </thead>\n",
              "  <tbody>\n",
              "    <tr>\n",
              "      <th>10대</th>\n",
              "      <td>55.7</td>\n",
              "      <td>6.1</td>\n",
              "      <td>5.6</td>\n",
              "      <td>32.2</td>\n",
              "      <td>0.3</td>\n",
              "    </tr>\n",
              "    <tr>\n",
              "      <th>20대</th>\n",
              "      <td>54.8</td>\n",
              "      <td>6.9</td>\n",
              "      <td>5.2</td>\n",
              "      <td>32.9</td>\n",
              "      <td>0.1</td>\n",
              "    </tr>\n",
              "    <tr>\n",
              "      <th>30대</th>\n",
              "      <td>58.1</td>\n",
              "      <td>5.5</td>\n",
              "      <td>4.6</td>\n",
              "      <td>31.6</td>\n",
              "      <td>0.2</td>\n",
              "    </tr>\n",
              "    <tr>\n",
              "      <th>40대</th>\n",
              "      <td>57.7</td>\n",
              "      <td>6.8</td>\n",
              "      <td>5.2</td>\n",
              "      <td>29.4</td>\n",
              "      <td>1</td>\n",
              "    </tr>\n",
              "    <tr>\n",
              "      <th>50대</th>\n",
              "      <td>50.1</td>\n",
              "      <td>9.2</td>\n",
              "      <td>7.2</td>\n",
              "      <td>32.2</td>\n",
              "      <td>1.4</td>\n",
              "    </tr>\n",
              "    <tr>\n",
              "      <th>60대 이상</th>\n",
              "      <td>27.5</td>\n",
              "      <td>12.8</td>\n",
              "      <td>6.9</td>\n",
              "      <td>46.8</td>\n",
              "      <td>6</td>\n",
              "    </tr>\n",
              "  </tbody>\n",
              "</table>\n",
              "</div>"
            ],
            "text/plain": [
              "        운동을 할 충분한 시간이 없어서 함께 운동을 할 사람이 없어서  운동을 할 만한 장소가 없어서  운동을 싫어해서   기타\n",
              "분류                                                                         \n",
              "10대                  55.7              6.1               5.6      32.2  0.3\n",
              "20대                  54.8              6.9               5.2      32.9  0.1\n",
              "30대                  58.1              5.5               4.6      31.6  0.2\n",
              "40대                  57.7              6.8               5.2      29.4    1\n",
              "50대                  50.1              9.2               7.2      32.2  1.4\n",
              "60대 이상               27.5             12.8               6.9      46.8    6"
            ]
          },
          "metadata": {
            "tags": []
          },
          "execution_count": 26
        }
      ]
    },
    {
      "cell_type": "markdown",
      "metadata": {
        "id": "U8ZWwKiewOAz"
      },
      "source": [
        "### 2) matplotlib 시각화"
      ]
    },
    {
      "cell_type": "code",
      "metadata": {
        "colab": {
          "base_uri": "https://localhost:8080/",
          "height": 219
        },
        "id": "A-OanifIwMRc",
        "outputId": "3521020b-c8db-4a08-b3d6-eff348efc82b"
      },
      "source": [
        "figure, ax = plt.subplots(1,4, figsize=(16,8))\n",
        "\n",
        "explode_set = [0.02, 0.02, 0.02, 0.02, 0.02, 0.02]\n",
        "\n",
        "DF_A['운동을 할 충분한 시간이 없어서'].plot.pie(explode=explode_set, ax =ax[0],autopct='%1.1f%%')\n",
        "ax[0].set_title('운동을 할 충분한 시간이 없어서')\n",
        "ax[0].set_ylabel('')\n",
        "\n",
        "DF_A['함께 운동을 할 사람이 없어서'].plot.pie(explode = explode_set, ax=ax[1], autopct='%1.1f%%')\n",
        "ax[1].set_title(\"함께 운동을 할 사람이 없어서\")\n",
        "ax[1].set_ylabel('')\n",
        "\n",
        "DF_A['운동을 할 만한 장소가 없어서'].plot.pie(explode=explode_set, ax=ax[2], autopct='%1.1f%%')\n",
        "ax[2].set_title('운동을 할 만한 장소가 없어서')\n",
        "ax[2].set_ylabel('')\n",
        "\n",
        "DF_A['운동을 싫어해서'].plot.pie(explode = explode_set, ax=ax[3], autopct='%1.1f%%')\n",
        "ax[3].set_title('운동을 싫어해서')\n",
        "ax[3].set_ylabel('')\n",
        "\n",
        "plt.show()"
      ],
      "execution_count": 29,
      "outputs": [
        {
          "output_type": "display_data",
          "data": {
            "image/png": "[encoded data removed]",
            "text/plain": [
              "<Figure size 1152x576 with 4 Axes>"
            ]
          },
          "metadata": {
            "tags": []
          }
        }
      ]
    },
    {
      "cell_type": "markdown",
      "metadata": {
        "id": "RRC6g9qUxylO"
      },
      "source": [
        "## 4. '학력별' 통계\n",
        "\n",
        "### 1) '학력별' 데이터 추출"
      ]
    },
    {
      "cell_type": "code",
      "metadata": {
        "colab": {
          "base_uri": "https://localhost:8080/",
          "height": 238
        },
        "id": "zy7i8Touwa9r",
        "outputId": "9035dce8-2af1-48c2-f4f7-1f091f314907"
      },
      "source": [
        "DF_V = DF[DF['대분류']=='학력별'].copy()\n",
        "DF_V.drop(columns = '대분류', inplace = True)\n",
        "DF_V.set_index('분류', inplace = True)\n",
        "\n",
        "DF_V\n"
      ],
      "execution_count": 30,
      "outputs": [
        {
          "output_type": "execute_result",
          "data": {
            "text/html": [
              "<div>\n",
              "<style scoped>\n",
              "    .dataframe tbody tr th:only-of-type {\n",
              "        vertical-align: middle;\n",
              "    }\n",
              "\n",
              "    .dataframe tbody tr th {\n",
              "        vertical-align: top;\n",
              "    }\n",
              "\n",
              "    .dataframe thead th {\n",
              "        text-align: right;\n",
              "    }\n",
              "</style>\n",
              "<table border=\"1\" class=\"dataframe\">\n",
              "  <thead>\n",
              "    <tr style=\"text-align: right;\">\n",
              "      <th></th>\n",
              "      <th>운동을 할 충분한 시간이 없어서</th>\n",
              "      <th>함께 운동을 할 사람이 없어서</th>\n",
              "      <th>운동을 할 만한 장소가 없어서</th>\n",
              "      <th>운동을 싫어해서</th>\n",
              "      <th>기타</th>\n",
              "    </tr>\n",
              "    <tr>\n",
              "      <th>분류</th>\n",
              "      <th></th>\n",
              "      <th></th>\n",
              "      <th></th>\n",
              "      <th></th>\n",
              "      <th></th>\n",
              "    </tr>\n",
              "  </thead>\n",
              "  <tbody>\n",
              "    <tr>\n",
              "      <th>중졸 이하</th>\n",
              "      <td>26.1</td>\n",
              "      <td>13.7</td>\n",
              "      <td>6.6</td>\n",
              "      <td>46.2</td>\n",
              "      <td>7.4</td>\n",
              "    </tr>\n",
              "    <tr>\n",
              "      <th>고졸 이하</th>\n",
              "      <td>46.3</td>\n",
              "      <td>8.5</td>\n",
              "      <td>6.9</td>\n",
              "      <td>36.5</td>\n",
              "      <td>1.7</td>\n",
              "    </tr>\n",
              "    <tr>\n",
              "      <th>대졸 이하</th>\n",
              "      <td>57.4</td>\n",
              "      <td>6.6</td>\n",
              "      <td>4.9</td>\n",
              "      <td>30.7</td>\n",
              "      <td>0.4</td>\n",
              "    </tr>\n",
              "    <tr>\n",
              "      <th>대학원 이상</th>\n",
              "      <td>65.3</td>\n",
              "      <td>3.8</td>\n",
              "      <td>0.6</td>\n",
              "      <td>29.6</td>\n",
              "      <td>0.6</td>\n",
              "    </tr>\n",
              "  </tbody>\n",
              "</table>\n",
              "</div>"
            ],
            "text/plain": [
              "        운동을 할 충분한 시간이 없어서 함께 운동을 할 사람이 없어서  운동을 할 만한 장소가 없어서  운동을 싫어해서   기타\n",
              "분류                                                                         \n",
              "중졸 이하                26.1             13.7               6.6      46.2  7.4\n",
              "고졸 이하                46.3              8.5               6.9      36.5  1.7\n",
              "대졸 이하                57.4              6.6               4.9      30.7  0.4\n",
              "대학원 이상               65.3              3.8               0.6      29.6  0.6"
            ]
          },
          "metadata": {
            "tags": []
          },
          "execution_count": 30
        }
      ]
    },
    {
      "cell_type": "markdown",
      "metadata": {
        "id": "vJeqsgNSyN7C"
      },
      "source": [
        "### 2) matplotlib 시각화"
      ]
    },
    {
      "cell_type": "code",
      "metadata": {
        "colab": {
          "base_uri": "https://localhost:8080/",
          "height": 213
        },
        "id": "xp5wDccKyLOr",
        "outputId": "c1c4ec15-02f1-461d-bea5-213c3ad77770"
      },
      "source": [
        "figure, ax = plt.subplots(1,4, figsize = (16,8))\n",
        "\n",
        "explode_set = [0.02, 0.02, 0.02, 0.02]\n",
        "\n",
        "DF_V['운동을 할 충분한 시간이 없어서'].plot.pie(explode=explode_set, ax = ax[0], autopct='%1.1f%%')\n",
        "ax[0].set_title('운동을 할 충분한 시간이 없어서')\n",
        "ax[0].set_ylabel('')\n",
        "\n",
        "DF_V['함께 운동을 할 사람이 없어서'].plot.pie(explode=explode_set, ax = ax[1], autopct='%1.1f%%')\n",
        "ax[1].set_title('함께 운동을 할 사람이 없어서')\n",
        "ax[1].set_ylabel('')\n",
        "\n",
        "DF_V['운동을 할 만한 장소가 없어서'].plot.pie(explode=explode_set, ax = ax[2], autopct='%1.1f%%')\n",
        "ax[2].set_title('운동을 할 만한 장소가 없어서')\n",
        "ax[2].set_ylabel('')\n",
        "\n",
        "DF_V['운동을 싫어해서'].plot.pie(explode=explode_set, ax = ax[3], autopct='%1.1f%%')\n",
        "ax[3].set_title('운동을 싫어해서')\n",
        "ax[3].set_ylabel('')\n",
        "\n",
        "plt.show()"
      ],
      "execution_count": 33,
      "outputs": [
        {
          "output_type": "display_data",
          "data": {
            "image/png": "[encoded data removed]",
            "text/plain": [
              "<Figure size 1152x576 with 4 Axes>"
            ]
          },
          "metadata": {
            "tags": []
          }
        }
      ]
    },
    {
      "cell_type": "markdown",
      "metadata": {
        "id": "4qeT0D-_0A-s"
      },
      "source": [
        "## 추가 구현\n",
        "\n",
        "### row 기준으로 시각화하기"
      ]
    },
    {
      "cell_type": "code",
      "metadata": {
        "colab": {
          "base_uri": "https://localhost:8080/",
          "height": 419
        },
        "id": "Fc5qTkucygk8",
        "outputId": "6c060c3d-c9a9-421c-e8c0-8d3134f60da7"
      },
      "source": [
        "DF_G.rename(columns={'운동을 할 충분한 시간이 없어서':'시간부족',\\\n",
        "                     '함께 운동을 할 사람이 없어서' : '동료 없음',\\\n",
        "                     '운동을 할 만한 장소가 없어서':'장소 부족',\\\n",
        "                     '운동을 싫어해서' : \"운동 불호\"}, inplace = True)\n",
        "\n",
        "figure, ax = plt.subplots(1,2, figsize = (15,10))\n",
        "\n",
        "explode_set = [0.02, 0.02, 0.02, 0.02, 0.02]\n",
        "\n",
        "DF_G.loc['남자'].plot.pie(explode = explode_set, ax = ax[0], autopct='%1.1f%%')\n",
        "ax[0].set_title('남자')\n",
        "ax[0].set_ylabel('')\n",
        "\n",
        "DF_G.loc['여자'].plot.pie(explode=explode_set, ax=ax[1], autopct='%1.1f%%')\n",
        "ax[1].set_title('여자')\n",
        "ax[1].set_ylabel('')\n",
        "\n",
        "plt.show()"
      ],
      "execution_count": 37,
      "outputs": [
        {
          "output_type": "display_data",
          "data": {
            "image/png": "[encoded data removed]",
            "text/plain": [
              "<Figure size 1080x720 with 2 Axes>"
            ]
          },
          "metadata": {
            "tags": []
          }
        }
      ]
    },
    {
      "cell_type": "code",
      "metadata": {
        "colab": {
          "base_uri": "https://localhost:8080/",
          "height": 507
        },
        "id": "QhLpd3Yb0_Ns",
        "outputId": "186c2b12-3b06-45d4-a489-84071e0ffc00"
      },
      "source": [
        "DF_A.rename(columns={'운동을 할 충분한 시간이 없어서':'시간부족',\\\n",
        "                     '함께 운동을 할 사람이 없어서' : '동료 없음',\\\n",
        "                     '운동을 할 만한 장소가 없어서':'장소 부족',\\\n",
        "                     '운동을 싫어해서' : \"운동 불호\"}, inplace = True)\n",
        "\n",
        "figure, ax = plt.subplots(2,3, figsize=(10,10))\n",
        "\n",
        "DF_A.loc['10대'].plot.pie(explode = explode_set, ax = ax[0][0], autopct='%1.1f%%')\n",
        "ax[0][0].set_title('10대')\n",
        "ax[0][0].set_ylabel('')\n",
        "\n",
        "DF_A.loc['20대'].plot.pie(explode = explode_set, ax = ax[0][1], autopct='%1.1f%%')\n",
        "ax[0][1].set_title('20대')\n",
        "ax[0][1].set_ylabel('')\n",
        "\n",
        "DF_A.loc['30대'].plot.pie(explode = explode_set, ax = ax[0][2], autopct='%1.1f%%')\n",
        "ax[0][2].set_title('30대')\n",
        "ax[0][2].set_ylabel('')\n",
        "\n",
        "DF_A.loc['40대'].plot.pie(explode = explode_set, ax = ax[1][0], autopct='%1.1f%%')\n",
        "ax[1][0].set_title('40대')\n",
        "ax[1][0].set_ylabel('')\n",
        "\n",
        "DF_A.loc['50대'].plot.pie(explode = explode_set, ax = ax[1][1], autopct='%1.1f%%')\n",
        "ax[1][1].set_title('50대')\n",
        "ax[1][1].set_ylabel('')\n",
        "\n",
        "DF_A.loc['60대 이상'].plot.pie(explode = explode_set, ax = ax[1][2], autopct='%1.1f%%')\n",
        "ax[1][2].set_title('60대 이상')\n",
        "ax[1][2].set_ylabel('')\n",
        "\n",
        "plt.show()"
      ],
      "execution_count": 41,
      "outputs": [
        {
          "output_type": "display_data",
          "data": {
            "image/png": "[encoded data removed]",
            "text/plain": [
              "<Figure size 720x720 with 6 Axes>"
            ]
          },
          "metadata": {
            "tags": []
          }
        }
      ]
    },
    {
      "cell_type": "code",
      "metadata": {
        "colab": {
          "base_uri": "https://localhost:8080/",
          "height": 893
        },
        "id": "YG9A1an83hJc",
        "outputId": "dd7771c9-3dbe-40a1-ce8f-9772812ec7d6"
      },
      "source": [
        "DF_V.rename(columns={'운동을 할 충분한 시간이 없어서':'시간부족',\\\n",
        "                     '함께 운동을 할 사람이 없어서' : '동료 없음',\\\n",
        "                     '운동을 할 만한 장소가 없어서':'장소 부족',\\\n",
        "                     '운동을 싫어해서' : \"운동 불호\"}, inplace = True)\n",
        "\n",
        "ax = DF_V.plot.barh(figsize = (15,15), fontsize = 20)\n",
        "ax.set_xlabel('')\n",
        "ax.set_ylabel('학력', fontsize = 20)\n"
      ],
      "execution_count": 58,
      "outputs": [
        {
          "output_type": "execute_result",
          "data": {
            "text/plain": [
              "Text(0, 0.5, '학력')"
            ]
          },
          "metadata": {
            "tags": []
          },
          "execution_count": 58
        },
        {
          "output_type": "display_data",
          "data": {
            "image/png": "[encoded data removed]",
            "text/plain": [
              "<Figure size 1080x1080 with 1 Axes>"
            ]
          },
          "metadata": {
            "tags": [],
            "needs_background": "light"
          }
        }
      ]
    },
    {
      "cell_type": "code",
      "metadata": {
        "id": "3L7FUDsU5JHF"
      },
      "source": [
        ""
      ],
      "execution_count": null,
      "outputs": []
    }
  ]
}