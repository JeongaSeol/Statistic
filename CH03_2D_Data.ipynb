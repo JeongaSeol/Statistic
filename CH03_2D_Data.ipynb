{
  "nbformat": 4,
  "nbformat_minor": 0,
  "metadata": {
    "colab": {
      "name": "CH03_2D_Data.ipynb",
      "provenance": [],
      "collapsed_sections": []
    },
    "kernelspec": {
      "name": "python3",
      "display_name": "Python 3"
    },
    "language_info": {
      "name": "python"
    }
  },
  "cells": [
    {
      "cell_type": "markdown",
      "metadata": {
        "id": "oqO4Qnd3Kz65"
      },
      "source": [
        "# CH03 2차원 데이터 정리\n",
        "\n",
        "## 두 데이터 사이의 관계를 나타내는 지표 \n"
      ]
    },
    {
      "cell_type": "code",
      "metadata": {
        "id": "EKdaQYI-H65i"
      },
      "source": [
        "# 데이터 준비 \n",
        "\n",
        "import numpy as np\n",
        "import pandas as pd\n",
        "\n",
        "%precision 3\n",
        "pd.set_option('precision', 3)"
      ],
      "execution_count": 19,
      "outputs": []
    },
    {
      "cell_type": "code",
      "metadata": {
        "id": "89oTixAVLOW0"
      },
      "source": [
        "df = pd.read_csv('scores_em.csv', index_col= 'student number')"
      ],
      "execution_count": 20,
      "outputs": []
    },
    {
      "cell_type": "code",
      "metadata": {
        "colab": {
          "base_uri": "https://localhost:8080/",
          "height": 390
        },
        "id": "m-uifB1HLT-9",
        "outputId": "29b6ea01-5004-4493-e025-1928011bd68f"
      },
      "source": [
        "en_scores = np.array(df['english'])[:10]\n",
        "ma_scores = np.array(df['mathematics'])[:10]\n",
        "\n",
        "scores_df = pd.DataFrame({'english':en_scores, 'mathematics':ma_scores},\n",
        "                         index=pd.Index(['A','B','C','D','E','F','G','H','I','J'], name = 'student'))\n",
        "scores_df"
      ],
      "execution_count": 21,
      "outputs": [
        {
          "output_type": "execute_result",
          "data": {
            "text/html": [
              "<div>\n",
              "<style scoped>\n",
              "    .dataframe tbody tr th:only-of-type {\n",
              "        vertical-align: middle;\n",
              "    }\n",
              "\n",
              "    .dataframe tbody tr th {\n",
              "        vertical-align: top;\n",
              "    }\n",
              "\n",
              "    .dataframe thead th {\n",
              "        text-align: right;\n",
              "    }\n",
              "</style>\n",
              "<table border=\"1\" class=\"dataframe\">\n",
              "  <thead>\n",
              "    <tr style=\"text-align: right;\">\n",
              "      <th></th>\n",
              "      <th>english</th>\n",
              "      <th>mathematics</th>\n",
              "    </tr>\n",
              "    <tr>\n",
              "      <th>student</th>\n",
              "      <th></th>\n",
              "      <th></th>\n",
              "    </tr>\n",
              "  </thead>\n",
              "  <tbody>\n",
              "    <tr>\n",
              "      <th>A</th>\n",
              "      <td>42</td>\n",
              "      <td>65</td>\n",
              "    </tr>\n",
              "    <tr>\n",
              "      <th>B</th>\n",
              "      <td>69</td>\n",
              "      <td>80</td>\n",
              "    </tr>\n",
              "    <tr>\n",
              "      <th>C</th>\n",
              "      <td>56</td>\n",
              "      <td>63</td>\n",
              "    </tr>\n",
              "    <tr>\n",
              "      <th>D</th>\n",
              "      <td>41</td>\n",
              "      <td>63</td>\n",
              "    </tr>\n",
              "    <tr>\n",
              "      <th>E</th>\n",
              "      <td>57</td>\n",
              "      <td>76</td>\n",
              "    </tr>\n",
              "    <tr>\n",
              "      <th>F</th>\n",
              "      <td>48</td>\n",
              "      <td>60</td>\n",
              "    </tr>\n",
              "    <tr>\n",
              "      <th>G</th>\n",
              "      <td>65</td>\n",
              "      <td>81</td>\n",
              "    </tr>\n",
              "    <tr>\n",
              "      <th>H</th>\n",
              "      <td>49</td>\n",
              "      <td>66</td>\n",
              "    </tr>\n",
              "    <tr>\n",
              "      <th>I</th>\n",
              "      <td>65</td>\n",
              "      <td>78</td>\n",
              "    </tr>\n",
              "    <tr>\n",
              "      <th>J</th>\n",
              "      <td>58</td>\n",
              "      <td>82</td>\n",
              "    </tr>\n",
              "  </tbody>\n",
              "</table>\n",
              "</div>"
            ],
            "text/plain": [
              "         english  mathematics\n",
              "student                      \n",
              "A             42           65\n",
              "B             69           80\n",
              "C             56           63\n",
              "D             41           63\n",
              "E             57           76\n",
              "F             48           60\n",
              "G             65           81\n",
              "H             49           66\n",
              "I             65           78\n",
              "J             58           82"
            ]
          },
          "metadata": {
            "tags": []
          },
          "execution_count": 21
        }
      ]
    },
    {
      "cell_type": "markdown",
      "metadata": {
        "id": "kHWoO4qTLvsA"
      },
      "source": [
        "### 3.1.1 공분산\n",
        "\n",
        "##### 공분산 : 두 데이터의 상관관계를 나타내는 지표\n",
        "##### 상관계수 : 단위에 의존하지 않는 상관을 나타내는 지표\n",
        "* 상관계수는 공분산을 각 데이터의 표준편차로 나눈 값\n",
        "* 상관계수 r은 -1부터 1까지의 값을 가짐\n",
        "* 1 : 두 데이터가 강력한 양의 상관관계가 있음\n",
        "* 0 : 두 데이터가 서로 관계가 없음\n",
        "* -1 : 두 데이터가 강력한 음의 상관관계가 있음"
      ]
    },
    {
      "cell_type": "code",
      "metadata": {
        "colab": {
          "base_uri": "https://localhost:8080/",
          "height": 390
        },
        "id": "0dR2mAO_LuAM",
        "outputId": "5b669fd4-a0e2-4ca0-fcba-8f847dba09d1"
      },
      "source": [
        "# 공분산\n",
        "summary_df = scores_df.copy()\n",
        "summary_df['english_deviation'] =\\\n",
        "    summary_df['english'] - summary_df['english'].mean()\n",
        "summary_df['mathematics_deviation']=\\\n",
        "    summary_df['mathematics'] - summary_df['mathematics'].mean()\n",
        "summary_df['product of deviations'] =\\\n",
        "    summary_df['english_deviation'] * summary_df['mathematics_deviation']\n",
        "\n",
        "summary_df"
      ],
      "execution_count": 22,
      "outputs": [
        {
          "output_type": "execute_result",
          "data": {
            "text/html": [
              "<div>\n",
              "<style scoped>\n",
              "    .dataframe tbody tr th:only-of-type {\n",
              "        vertical-align: middle;\n",
              "    }\n",
              "\n",
              "    .dataframe tbody tr th {\n",
              "        vertical-align: top;\n",
              "    }\n",
              "\n",
              "    .dataframe thead th {\n",
              "        text-align: right;\n",
              "    }\n",
              "</style>\n",
              "<table border=\"1\" class=\"dataframe\">\n",
              "  <thead>\n",
              "    <tr style=\"text-align: right;\">\n",
              "      <th></th>\n",
              "      <th>english</th>\n",
              "      <th>mathematics</th>\n",
              "      <th>english_deviation</th>\n",
              "      <th>mathematics_deviation</th>\n",
              "      <th>product of deviations</th>\n",
              "    </tr>\n",
              "    <tr>\n",
              "      <th>student</th>\n",
              "      <th></th>\n",
              "      <th></th>\n",
              "      <th></th>\n",
              "      <th></th>\n",
              "      <th></th>\n",
              "    </tr>\n",
              "  </thead>\n",
              "  <tbody>\n",
              "    <tr>\n",
              "      <th>A</th>\n",
              "      <td>42</td>\n",
              "      <td>65</td>\n",
              "      <td>-13.0</td>\n",
              "      <td>-6.4</td>\n",
              "      <td>83.2</td>\n",
              "    </tr>\n",
              "    <tr>\n",
              "      <th>B</th>\n",
              "      <td>69</td>\n",
              "      <td>80</td>\n",
              "      <td>14.0</td>\n",
              "      <td>8.6</td>\n",
              "      <td>120.4</td>\n",
              "    </tr>\n",
              "    <tr>\n",
              "      <th>C</th>\n",
              "      <td>56</td>\n",
              "      <td>63</td>\n",
              "      <td>1.0</td>\n",
              "      <td>-8.4</td>\n",
              "      <td>-8.4</td>\n",
              "    </tr>\n",
              "    <tr>\n",
              "      <th>D</th>\n",
              "      <td>41</td>\n",
              "      <td>63</td>\n",
              "      <td>-14.0</td>\n",
              "      <td>-8.4</td>\n",
              "      <td>117.6</td>\n",
              "    </tr>\n",
              "    <tr>\n",
              "      <th>E</th>\n",
              "      <td>57</td>\n",
              "      <td>76</td>\n",
              "      <td>2.0</td>\n",
              "      <td>4.6</td>\n",
              "      <td>9.2</td>\n",
              "    </tr>\n",
              "    <tr>\n",
              "      <th>F</th>\n",
              "      <td>48</td>\n",
              "      <td>60</td>\n",
              "      <td>-7.0</td>\n",
              "      <td>-11.4</td>\n",
              "      <td>79.8</td>\n",
              "    </tr>\n",
              "    <tr>\n",
              "      <th>G</th>\n",
              "      <td>65</td>\n",
              "      <td>81</td>\n",
              "      <td>10.0</td>\n",
              "      <td>9.6</td>\n",
              "      <td>96.0</td>\n",
              "    </tr>\n",
              "    <tr>\n",
              "      <th>H</th>\n",
              "      <td>49</td>\n",
              "      <td>66</td>\n",
              "      <td>-6.0</td>\n",
              "      <td>-5.4</td>\n",
              "      <td>32.4</td>\n",
              "    </tr>\n",
              "    <tr>\n",
              "      <th>I</th>\n",
              "      <td>65</td>\n",
              "      <td>78</td>\n",
              "      <td>10.0</td>\n",
              "      <td>6.6</td>\n",
              "      <td>66.0</td>\n",
              "    </tr>\n",
              "    <tr>\n",
              "      <th>J</th>\n",
              "      <td>58</td>\n",
              "      <td>82</td>\n",
              "      <td>3.0</td>\n",
              "      <td>10.6</td>\n",
              "      <td>31.8</td>\n",
              "    </tr>\n",
              "  </tbody>\n",
              "</table>\n",
              "</div>"
            ],
            "text/plain": [
              "         english  mathematics  ...  mathematics_deviation  product of deviations\n",
              "student                        ...                                              \n",
              "A             42           65  ...                   -6.4                   83.2\n",
              "B             69           80  ...                    8.6                  120.4\n",
              "C             56           63  ...                   -8.4                   -8.4\n",
              "D             41           63  ...                   -8.4                  117.6\n",
              "E             57           76  ...                    4.6                    9.2\n",
              "F             48           60  ...                  -11.4                   79.8\n",
              "G             65           81  ...                    9.6                   96.0\n",
              "H             49           66  ...                   -5.4                   32.4\n",
              "I             65           78  ...                    6.6                   66.0\n",
              "J             58           82  ...                   10.6                   31.8\n",
              "\n",
              "[10 rows x 5 columns]"
            ]
          },
          "metadata": {
            "tags": []
          },
          "execution_count": 22
        }
      ]
    },
    {
      "cell_type": "code",
      "metadata": {
        "colab": {
          "base_uri": "https://localhost:8080/"
        },
        "id": "TuKYv1tmM1-9",
        "outputId": "49422fd1-375e-40c6-bef6-c31d56364a1d"
      },
      "source": [
        "summary_df['product of deviations'].mean()"
      ],
      "execution_count": 23,
      "outputs": [
        {
          "output_type": "execute_result",
          "data": {
            "text/plain": [
              "62.800"
            ]
          },
          "metadata": {
            "tags": []
          },
          "execution_count": 23
        }
      ]
    },
    {
      "cell_type": "markdown",
      "metadata": {
        "id": "Ykow-kyINHoX"
      },
      "source": [
        "* 공분산이 62.8이므로 영어점수와 수학점수는 양의 상관관계가 있다고 할 수 있음"
      ]
    },
    {
      "cell_type": "code",
      "metadata": {
        "colab": {
          "base_uri": "https://localhost:8080/"
        },
        "id": "hsv2H-vGNGPE",
        "outputId": "4289fa17-3d8b-4d2d-e46f-81afcb8550af"
      },
      "source": [
        "# numPy의 경우, 공분산을 cov()로 구할 수 있음\n",
        "# return 값이 공분산값이 아닌 공분산행렬(분산공분산 행렬)임\n",
        "\n",
        "cov_mat = np.cov(en_scores, ma_scores, ddof=0)\n",
        "cov_mat"
      ],
      "execution_count": 24,
      "outputs": [
        {
          "output_type": "execute_result",
          "data": {
            "text/plain": [
              "array([[86.  , 62.8 ],\n",
              "       [62.8 , 68.44]])"
            ]
          },
          "metadata": {
            "tags": []
          },
          "execution_count": 24
        }
      ]
    },
    {
      "cell_type": "code",
      "metadata": {
        "colab": {
          "base_uri": "https://localhost:8080/"
        },
        "id": "l8uNSRvKNgzr",
        "outputId": "cdac6105-6e69-47b4-d5c1-17b111c41505"
      },
      "source": [
        "# civ_mat의 [0,1], [1,0] 성분이 공분산\n",
        "# [0.0]. [1,1] 성분은 각각 영어와 영어의 공분산 = 영어의 분산 / 수학과 수학의 공분산 = 수학의 분산\n",
        "\n",
        "cov_mat[0,1], cov_mat[1,0]"
      ],
      "execution_count": 25,
      "outputs": [
        {
          "output_type": "execute_result",
          "data": {
            "text/plain": [
              "(62.800, 62.800)"
            ]
          },
          "metadata": {
            "tags": []
          },
          "execution_count": 25
        }
      ]
    },
    {
      "cell_type": "code",
      "metadata": {
        "colab": {
          "base_uri": "https://localhost:8080/"
        },
        "id": "TBqKThrwN9mj",
        "outputId": "d32876f4-328b-413e-c888-1653be690127"
      },
      "source": [
        "cov_mat[0,0], cov_mat[1,1]"
      ],
      "execution_count": 26,
      "outputs": [
        {
          "output_type": "execute_result",
          "data": {
            "text/plain": [
              "(86.000, 68.440)"
            ]
          },
          "metadata": {
            "tags": []
          },
          "execution_count": 26
        }
      ]
    },
    {
      "cell_type": "code",
      "metadata": {
        "colab": {
          "base_uri": "https://localhost:8080/"
        },
        "id": "40lrebQVOD7j",
        "outputId": "64682a5d-fd6a-45d4-bde4-80a1439a8340"
      },
      "source": [
        "# 영어와 수학의 분산 구하기\n",
        "np.var(en_scores, ddof=0), np.var(ma_scores, ddof=0)"
      ],
      "execution_count": 27,
      "outputs": [
        {
          "output_type": "execute_result",
          "data": {
            "text/plain": [
              "(86.000, 68.440)"
            ]
          },
          "metadata": {
            "tags": []
          },
          "execution_count": 27
        }
      ]
    },
    {
      "cell_type": "markdown",
      "metadata": {
        "id": "EwABoDT-O09j"
      },
      "source": [
        "#### 상관계수"
      ]
    },
    {
      "cell_type": "code",
      "metadata": {
        "colab": {
          "base_uri": "https://localhost:8080/"
        },
        "id": "CyZw2oi5OLVs",
        "outputId": "99d3709e-2184-424f-9a78-0fe3f84097d0"
      },
      "source": [
        "np.cov(en_scores, ma_scores, ddof=0)[0,1]/(np.std(en_scores) * np.std(ma_scores))"
      ],
      "execution_count": 28,
      "outputs": [
        {
          "output_type": "execute_result",
          "data": {
            "text/plain": [
              "0.819"
            ]
          },
          "metadata": {
            "tags": []
          },
          "execution_count": 28
        }
      ]
    },
    {
      "cell_type": "code",
      "metadata": {
        "colab": {
          "base_uri": "https://localhost:8080/"
        },
        "id": "gddrCcOkPHLD",
        "outputId": "5ec3f95b-8971-4c2c-b68c-439d190a1a9d"
      },
      "source": [
        "# 상관계수를 corrcoef()로 계산 가능\n",
        "\n",
        "np.corrcoef(en_scores, ma_scores)"
      ],
      "execution_count": 29,
      "outputs": [
        {
          "output_type": "execute_result",
          "data": {
            "text/plain": [
              "array([[1.   , 0.819],\n",
              "       [0.819, 1.   ]])"
            ]
          },
          "metadata": {
            "tags": []
          },
          "execution_count": 29
        }
      ]
    },
    {
      "cell_type": "markdown",
      "metadata": {
        "id": "OZcokwptPTpS"
      },
      "source": [
        "상관행렬의 [0,1]과 [1,0] 성분이 영어와 수학의 상관계수\n",
        "\n",
        "[0,0], [1,1] 성분은 각각 영어와 영어의 상관계수, 수학과 수학의 상관계수에 대응"
      ]
    },
    {
      "cell_type": "code",
      "metadata": {
        "colab": {
          "base_uri": "https://localhost:8080/",
          "height": 111
        },
        "id": "xeep6EEnPSea",
        "outputId": "b36626b7-7fcd-4fce-ade5-76371fd6e7b1"
      },
      "source": [
        "# DataFrame에서의 corr() 메서드 이용해서 상관계수 출력\n",
        "scores_df.corr()"
      ],
      "execution_count": 30,
      "outputs": [
        {
          "output_type": "execute_result",
          "data": {
            "text/html": [
              "<div>\n",
              "<style scoped>\n",
              "    .dataframe tbody tr th:only-of-type {\n",
              "        vertical-align: middle;\n",
              "    }\n",
              "\n",
              "    .dataframe tbody tr th {\n",
              "        vertical-align: top;\n",
              "    }\n",
              "\n",
              "    .dataframe thead th {\n",
              "        text-align: right;\n",
              "    }\n",
              "</style>\n",
              "<table border=\"1\" class=\"dataframe\">\n",
              "  <thead>\n",
              "    <tr style=\"text-align: right;\">\n",
              "      <th></th>\n",
              "      <th>english</th>\n",
              "      <th>mathematics</th>\n",
              "    </tr>\n",
              "  </thead>\n",
              "  <tbody>\n",
              "    <tr>\n",
              "      <th>english</th>\n",
              "      <td>1.000</td>\n",
              "      <td>0.819</td>\n",
              "    </tr>\n",
              "    <tr>\n",
              "      <th>mathematics</th>\n",
              "      <td>0.819</td>\n",
              "      <td>1.000</td>\n",
              "    </tr>\n",
              "  </tbody>\n",
              "</table>\n",
              "</div>"
            ],
            "text/plain": [
              "             english  mathematics\n",
              "english        1.000        0.819\n",
              "mathematics    0.819        1.000"
            ]
          },
          "metadata": {
            "tags": []
          },
          "execution_count": 30
        }
      ]
    },
    {
      "cell_type": "markdown",
      "metadata": {
        "id": "INeD03WRQN2z"
      },
      "source": [
        "## 3.2 2차원 데이터의 시각화\n",
        "\n",
        "### 3.2.1 산점도"
      ]
    },
    {
      "cell_type": "code",
      "metadata": {
        "id": "ivWrs4tjPlJr"
      },
      "source": [
        "# scatter() 메서드를 이용해서 산점도 그리기\n",
        "\n",
        "import matplotlib.pyplot as plt\n",
        "\n",
        "%matplotlib inline\n"
      ],
      "execution_count": 31,
      "outputs": []
    },
    {
      "cell_type": "code",
      "metadata": {
        "colab": {
          "base_uri": "https://localhost:8080/",
          "height": 497
        },
        "id": "iYrYbCnhQijD",
        "outputId": "16e0262d-da72-453e-97de-25fa6ac0434c"
      },
      "source": [
        "english_scores = np.array(df['english'])\n",
        "math_scores = np.array(df['mathematics'])\n",
        "\n",
        "fig = plt.figure(figsize=(8,8))\n",
        "ax = fig.add_subplot(111)\n",
        "\n",
        "#산점도\n",
        "ax.scatter(english_scores, math_scores)\n",
        "ax.set_xlabel('english')\n",
        "ax.set_ylabel('mathematics')\n",
        "\n",
        "plt.show()"
      ],
      "execution_count": 35,
      "outputs": [
        {
          "output_type": "display_data",
          "data": {
            "image/png": "[encoded data removed]",
            "text/plain": [
              "<Figure size 576x576 with 1 Axes>"
            ]
          },
          "metadata": {
            "tags": [],
            "needs_background": "light"
          }
        }
      ]
    },
    {
      "cell_type": "markdown",
      "metadata": {
        "id": "-9eBLBugRewb"
      },
      "source": [
        "### 3.2.2 회귀 직선\n"
      ]
    },
    {
      "cell_type": "code",
      "metadata": {
        "colab": {
          "base_uri": "https://localhost:8080/",
          "height": 497
        },
        "id": "P2uAxSdRRcR5",
        "outputId": "33c3c910-009d-47a3-ebe5-3ec32e3e27c6"
      },
      "source": [
        "# 계수 b(베타)_0, b_1을 구함\n",
        "poly_fit = np.polyfit(english_scores, math_scores,1)\n",
        "\n",
        "# b_0 + b_1x를 return하는 함수 작성\n",
        "poly_1d = np.poly1d(poly_fit)\n",
        "\n",
        "# 직선을 그리기 위해 x좌표 생성\n",
        "xs = np.linspace(enlish_scores.min(), english_scores.max())\n",
        "\n",
        "# xs에 대응하는 y좌표 구하기\n",
        "ys = poly_1d(xs)\n",
        "\n",
        "fig = plt.figure(figsize=(8,8))\n",
        "ax = fig.add_subplot(111)\n",
        "ax.scatter(english_scores, math_scores, label='score')\n",
        "ax.plot(xs, ys, color='gray', label=f'{poly_fit[1]:.2f}+{poly_fit[0]:.2f}x')\n",
        "ax.set_xlabel('english')\n",
        "ax.set_ylabel('mathematics')\n",
        "\n",
        "# 범례표시\n",
        "ax.legend(loc = 'upper left')\n",
        "\n",
        "plt.show()"
      ],
      "execution_count": 37,
      "outputs": [
        {
          "output_type": "display_data",
          "data": {
            "image/png": "[encoded data removed]",
            "text/plain": [
              "<Figure size 576x576 with 1 Axes>"
            ]
          },
          "metadata": {
            "tags": [],
            "needs_background": "light"
          }
        }
      ]
    },
    {
      "cell_type": "markdown",
      "metadata": {
        "id": "9s1qX6gNTBBK"
      },
      "source": [
        "### 3.2.3 히트맵\n",
        "\n"
      ]
    },
    {
      "cell_type": "code",
      "metadata": {
        "colab": {
          "base_uri": "https://localhost:8080/",
          "height": 501
        },
        "id": "SckokGbhSlei",
        "outputId": "b45fc182-5e11-444b-e830-4c52b8a6c4d8"
      },
      "source": [
        "fig=plt.figure(figsize = (10,8))\n",
        "ax =fig.add_subplot(111)\n",
        "\n",
        "c = ax.hist2d(english_scores, math_scores, bins=[9,8], range = [(35,80), (55,95)])\n",
        "ax.set_xlabel('english')\n",
        "ax.set_ylabel('mathematics')\n",
        "ax.set_xticks(c[1])\n",
        "ax.set_yticks(c[2])\n",
        "\n",
        "# 컬러 바 표시\n",
        "fig.colorbar(c[3], ax=ax)\n",
        "plt.show()"
      ],
      "execution_count": 41,
      "outputs": [
        {
          "output_type": "display_data",
          "data": {
            "image/png": "[encoded data removed]",
            "text/plain": [
              "<Figure size 720x576 with 2 Axes>"
            ]
          },
          "metadata": {
            "tags": [],
            "needs_background": "light"
          }
        }
      ]
    }
  ]
}