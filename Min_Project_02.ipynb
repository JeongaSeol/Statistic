{
  "nbformat": 4,
  "nbformat_minor": 0,
  "metadata": {
    "colab": {
      "name": "Min_Project_02.ipynb",
      "provenance": []
    },
    "kernelspec": {
      "name": "python3",
      "display_name": "Python 3"
    },
    "language_info": {
      "name": "python"
    }
  },
  "cells": [
    {
      "cell_type": "markdown",
      "metadata": {
        "id": "hyM79h4LOWMr"
      },
      "source": [
        "# 서울시 CCTV 현황 분석\n",
        "\n",
        "## 0. 한글 폰트 설치 후 진행\n",
        "\n",
        "### 1) 한글 폰트 설치\n",
        "* 설치 후 **'런타임 다시 시작'**"
      ]
    },
    {
      "cell_type": "code",
      "metadata": {
        "colab": {
          "base_uri": "https://localhost:8080/"
        },
        "id": "wwcfGy41AXTV",
        "outputId": "d430e2af-914a-46da-dc91-f3267993c5db"
      },
      "source": [
        "!apt-get update\n",
        "!apt-get install -y fonts-nanum\n",
        "!fc-cache -fv\n",
        "!rm ~/.cache/matplotlib -rf"
      ],
      "execution_count": 1,
      "outputs": [
        {
          "output_type": "stream",
          "text": [
            "\r0% [Working]\r            \rGet:1 http://ppa.launchpad.net/c2d4u.team/c2d4u4.0+/ubuntu bionic InRelease [15.9 kB]\n",
            "\r0% [Waiting for headers] [Connecting to security.ubuntu.com (91.189.91.39)] [Co\r                                                                               \rHit:2 http://archive.ubuntu.com/ubuntu bionic InRelease\n",
            "\r0% [Waiting for headers] [Connecting to security.ubuntu.com (91.189.91.39)] [Co\r                                                                               \rGet:3 http://archive.ubuntu.com/ubuntu bionic-updates InRelease [88.7 kB]\n",
            "\r0% [3 InRelease 30.1 kB/88.7 kB 34%] [Connecting to security.ubuntu.com (91.189\r0% [2 InRelease gpgv 242 kB] [3 InRelease 30.1 kB/88.7 kB 34%] [Connecting to s\r                                                                               \rHit:4 http://ppa.launchpad.net/cran/libgit2/ubuntu bionic InRelease\n",
            "\r0% [2 InRelease gpgv 242 kB] [3 InRelease 54.7 kB/88.7 kB 62%] [Connecting to s\r0% [2 InRelease gpgv 242 kB] [Waiting for headers] [Connecting to security.ubun\r                                                                               \rGet:5 http://archive.ubuntu.com/ubuntu bionic-backports InRelease [74.6 kB]\n",
            "\r0% [2 InRelease gpgv 242 kB] [5 InRelease 11.3 kB/74.6 kB 15%] [Connecting to s\r0% [2 InRelease gpgv 242 kB] [Connecting to security.ubuntu.com (91.189.91.39)]\r                                                                               \rGet:6 http://ppa.launchpad.net/deadsnakes/ppa/ubuntu bionic InRelease [15.9 kB]\n",
            "\r0% [2 InRelease gpgv 242 kB] [Connecting to security.ubuntu.com (91.189.91.39)]\r0% [2 InRelease gpgv 242 kB] [Waiting for headers] [Waiting for headers] [Conne\r                                                                               \rGet:7 https://cloud.r-project.org/bin/linux/ubuntu bionic-cran40/ InRelease [3,626 B]\n",
            "Get:8 http://ppa.launchpad.net/graphics-drivers/ppa/ubuntu bionic InRelease [21.3 kB]\n",
            "Get:9 http://security.ubuntu.com/ubuntu bionic-security InRelease [88.7 kB]\n",
            "Ign:10 https://developer.download.nvidia.com/compute/cuda/repos/ubuntu1804/x86_64  InRelease\n",
            "Ign:11 https://developer.download.nvidia.com/compute/machine-learning/repos/ubuntu1804/x86_64  InRelease\n",
            "Get:12 https://developer.download.nvidia.com/compute/cuda/repos/ubuntu1804/x86_64  Release [697 B]\n",
            "Hit:13 https://developer.download.nvidia.com/compute/machine-learning/repos/ubuntu1804/x86_64  Release\n",
            "Get:14 https://developer.download.nvidia.com/compute/cuda/repos/ubuntu1804/x86_64  Release.gpg [836 B]\n",
            "Get:15 http://ppa.launchpad.net/c2d4u.team/c2d4u4.0+/ubuntu bionic/main Sources [1,786 kB]\n",
            "Get:16 http://ppa.launchpad.net/c2d4u.team/c2d4u4.0+/ubuntu bionic/main amd64 Packages [914 kB]\n",
            "Get:17 http://archive.ubuntu.com/ubuntu bionic-updates/universe amd64 Packages [2,196 kB]\n",
            "Get:18 http://archive.ubuntu.com/ubuntu bionic-updates/main amd64 Packages [2,699 kB]\n",
            "Get:19 http://archive.ubuntu.com/ubuntu bionic-updates/restricted amd64 Packages [544 kB]\n",
            "Get:20 http://archive.ubuntu.com/ubuntu bionic-updates/multiverse amd64 Packages [39.4 kB]\n",
            "Get:21 http://ppa.launchpad.net/deadsnakes/ppa/ubuntu bionic/main amd64 Packages [40.9 kB]\n",
            "Get:22 https://cloud.r-project.org/bin/linux/ubuntu bionic-cran40/ Packages [66.2 kB]\n",
            "Get:23 http://ppa.launchpad.net/graphics-drivers/ppa/ubuntu bionic/main amd64 Packages [44.1 kB]\n",
            "Ign:25 https://developer.download.nvidia.com/compute/cuda/repos/ubuntu1804/x86_64  Packages\n",
            "Get:25 https://developer.download.nvidia.com/compute/cuda/repos/ubuntu1804/x86_64  Packages [695 kB]\n",
            "Get:26 http://security.ubuntu.com/ubuntu bionic-security/multiverse amd64 Packages [26.7 kB]\n",
            "Get:27 http://security.ubuntu.com/ubuntu bionic-security/restricted amd64 Packages [510 kB]\n",
            "Get:28 http://security.ubuntu.com/ubuntu bionic-security/main amd64 Packages [2,263 kB]\n",
            "Get:29 http://security.ubuntu.com/ubuntu bionic-security/universe amd64 Packages [1,421 kB]\n",
            "Fetched 13.6 MB in 4s (3,738 kB/s)\n",
            "Reading package lists... Done\n",
            "Reading package lists... Done\n",
            "Building dependency tree       \n",
            "Reading state information... Done\n",
            "The following NEW packages will be installed:\n",
            "  fonts-nanum\n",
            "0 upgraded, 1 newly installed, 0 to remove and 107 not upgraded.\n",
            "Need to get 9,604 kB of archives.\n",
            "After this operation, 29.5 MB of additional disk space will be used.\n",
            "Get:1 http://archive.ubuntu.com/ubuntu bionic/universe amd64 fonts-nanum all 20170925-1 [9,604 kB]\n",
            "Fetched 9,604 kB in 0s (44.4 MB/s)\n",
            "Selecting previously unselected package fonts-nanum.\n",
            "(Reading database ... 160837 files and directories currently installed.)\n",
            "Preparing to unpack .../fonts-nanum_20170925-1_all.deb ...\n",
            "Unpacking fonts-nanum (20170925-1) ...\n",
            "Setting up fonts-nanum (20170925-1) ...\n",
            "Processing triggers for fontconfig (2.12.6-0ubuntu2) ...\n",
            "/usr/share/fonts: caching, new cache contents: 0 fonts, 1 dirs\n",
            "/usr/share/fonts/truetype: caching, new cache contents: 0 fonts, 3 dirs\n",
            "/usr/share/fonts/truetype/humor-sans: caching, new cache contents: 1 fonts, 0 dirs\n",
            "/usr/share/fonts/truetype/liberation: caching, new cache contents: 16 fonts, 0 dirs\n",
            "/usr/share/fonts/truetype/nanum: caching, new cache contents: 10 fonts, 0 dirs\n",
            "/usr/local/share/fonts: caching, new cache contents: 0 fonts, 0 dirs\n",
            "/root/.local/share/fonts: skipping, no such directory\n",
            "/root/.fonts: skipping, no such directory\n",
            "/var/cache/fontconfig: cleaning cache directory\n",
            "/root/.cache/fontconfig: not cleaning non-existent cache directory\n",
            "/root/.fontconfig: not cleaning non-existent cache directory\n",
            "fc-cache: succeeded\n"
          ],
          "name": "stdout"
        }
      ]
    },
    {
      "cell_type": "markdown",
      "metadata": {
        "id": "3XBMTG_4X4Xi"
      },
      "source": [
        "### 2) 한글 폰트 사용\n"
      ]
    },
    {
      "cell_type": "code",
      "metadata": {
        "id": "SFTbLVNyXxhU"
      },
      "source": [
        "import matplotlib as mpl\n",
        "import matplotlib.pyplot as plt\n",
        "\n",
        "mpl.rcParams['axes.unicode_minus'] = False\n",
        "plt.rc('font', family='NanumBarunGothic')"
      ],
      "execution_count": 1,
      "outputs": []
    },
    {
      "cell_type": "markdown",
      "metadata": {
        "id": "IR20oTKAYHHe"
      },
      "source": [
        "## 1. 파일 업로드"
      ]
    },
    {
      "cell_type": "code",
      "metadata": {
        "id": "Zd4wz-QxYGaT"
      },
      "source": [
        "import warnings\n",
        "warnings.filterwarnings('ignore')"
      ],
      "execution_count": 2,
      "outputs": []
    },
    {
      "cell_type": "markdown",
      "metadata": {
        "id": "6KQq8SYfYO5o"
      },
      "source": [
        "### 1) 파일 업로드 확인\n",
        "* seoulCCTV.csv\n",
        "* seoulPopulation.xls"
      ]
    },
    {
      "cell_type": "code",
      "metadata": {
        "colab": {
          "base_uri": "https://localhost:8080/"
        },
        "id": "yAwmbZmhYOJr",
        "outputId": "0bf80693-8059-4145-b424-a469eb176580"
      },
      "source": [
        "!ls -l"
      ],
      "execution_count": 3,
      "outputs": [
        {
          "output_type": "stream",
          "text": [
            "total 28\n",
            "drwxr-xr-x 1 root root  4096 Jul 16 13:20 sample_data\n",
            "-rw-r--r-- 1 root root  1135 Aug 13 05:35 seoulCCTV.csv\n",
            "-rw-r--r-- 1 root root 19968 Aug 13 05:35 seoulPopulation.xls\n"
          ],
          "name": "stdout"
        }
      ]
    },
    {
      "cell_type": "markdown",
      "metadata": {
        "id": "3VCSrh3WYX4W"
      },
      "source": [
        "## 2. 'seoulCCTV.csv'파일 전처리\n",
        "\n",
        "### 1) 'seoulCCTV.csv'파일 읽어오기"
      ]
    },
    {
      "cell_type": "code",
      "metadata": {
        "colab": {
          "base_uri": "https://localhost:8080/",
          "height": 204
        },
        "id": "Ym_pkboEYWF7",
        "outputId": "3ccefc4f-aad4-4ed0-c62a-3347ae45045f"
      },
      "source": [
        "import pandas as pd\n",
        "\n",
        "SDF = pd.read_csv('seoulCCTV.csv', encoding = 'utf-8')\n",
        "\n",
        "SDF.head()"
      ],
      "execution_count": 5,
      "outputs": [
        {
          "output_type": "execute_result",
          "data": {
            "text/html": [
              "<div>\n",
              "<style scoped>\n",
              "    .dataframe tbody tr th:only-of-type {\n",
              "        vertical-align: middle;\n",
              "    }\n",
              "\n",
              "    .dataframe tbody tr th {\n",
              "        vertical-align: top;\n",
              "    }\n",
              "\n",
              "    .dataframe thead th {\n",
              "        text-align: right;\n",
              "    }\n",
              "</style>\n",
              "<table border=\"1\" class=\"dataframe\">\n",
              "  <thead>\n",
              "    <tr style=\"text-align: right;\">\n",
              "      <th></th>\n",
              "      <th>기관명</th>\n",
              "      <th>소계</th>\n",
              "      <th>2013년도 이전</th>\n",
              "      <th>2014년</th>\n",
              "      <th>2015년</th>\n",
              "      <th>2016년</th>\n",
              "    </tr>\n",
              "  </thead>\n",
              "  <tbody>\n",
              "    <tr>\n",
              "      <th>0</th>\n",
              "      <td>강남구</td>\n",
              "      <td>2780</td>\n",
              "      <td>1292</td>\n",
              "      <td>430</td>\n",
              "      <td>584</td>\n",
              "      <td>932</td>\n",
              "    </tr>\n",
              "    <tr>\n",
              "      <th>1</th>\n",
              "      <td>강동구</td>\n",
              "      <td>773</td>\n",
              "      <td>379</td>\n",
              "      <td>99</td>\n",
              "      <td>155</td>\n",
              "      <td>377</td>\n",
              "    </tr>\n",
              "    <tr>\n",
              "      <th>2</th>\n",
              "      <td>강북구</td>\n",
              "      <td>748</td>\n",
              "      <td>369</td>\n",
              "      <td>120</td>\n",
              "      <td>138</td>\n",
              "      <td>204</td>\n",
              "    </tr>\n",
              "    <tr>\n",
              "      <th>3</th>\n",
              "      <td>강서구</td>\n",
              "      <td>884</td>\n",
              "      <td>388</td>\n",
              "      <td>258</td>\n",
              "      <td>184</td>\n",
              "      <td>81</td>\n",
              "    </tr>\n",
              "    <tr>\n",
              "      <th>4</th>\n",
              "      <td>관악구</td>\n",
              "      <td>1496</td>\n",
              "      <td>846</td>\n",
              "      <td>260</td>\n",
              "      <td>390</td>\n",
              "      <td>613</td>\n",
              "    </tr>\n",
              "  </tbody>\n",
              "</table>\n",
              "</div>"
            ],
            "text/plain": [
              "   기관명    소계  2013년도 이전  2014년  2015년  2016년\n",
              "0  강남구  2780       1292    430    584    932\n",
              "1  강동구   773        379     99    155    377\n",
              "2  강북구   748        369    120    138    204\n",
              "3  강서구   884        388    258    184     81\n",
              "4  관악구  1496        846    260    390    613"
            ]
          },
          "metadata": {
            "tags": []
          },
          "execution_count": 5
        }
      ]
    },
    {
      "cell_type": "markdown",
      "metadata": {
        "id": "QwjNpgIiacRX"
      },
      "source": [
        "### 2) '기관명' column을 '자치구'로 변경\n",
        "* 열(column)이름 확인"
      ]
    },
    {
      "cell_type": "code",
      "metadata": {
        "colab": {
          "base_uri": "https://localhost:8080/"
        },
        "id": "sVNEAWqLYo9i",
        "outputId": "2ae8e824-a8f9-4694-9e24-b3dd1492c8b4"
      },
      "source": [
        "SDF.columns"
      ],
      "execution_count": 6,
      "outputs": [
        {
          "output_type": "execute_result",
          "data": {
            "text/plain": [
              "Index(['기관명', '소계', '2013년도 이전', '2014년', '2015년', '2016년'], dtype='object')"
            ]
          },
          "metadata": {
            "tags": []
          },
          "execution_count": 6
        }
      ]
    },
    {
      "cell_type": "code",
      "metadata": {
        "colab": {
          "base_uri": "https://localhost:8080/",
          "height": 204
        },
        "id": "qidfzPQpanhk",
        "outputId": "8ba902b5-6635-47c9-a448-5bdc687a4cc4"
      },
      "source": [
        "SDF.rename(columns={'기관명':'자치구'}, inplace = True)\n",
        "SDF.head()"
      ],
      "execution_count": 7,
      "outputs": [
        {
          "output_type": "execute_result",
          "data": {
            "text/html": [
              "<div>\n",
              "<style scoped>\n",
              "    .dataframe tbody tr th:only-of-type {\n",
              "        vertical-align: middle;\n",
              "    }\n",
              "\n",
              "    .dataframe tbody tr th {\n",
              "        vertical-align: top;\n",
              "    }\n",
              "\n",
              "    .dataframe thead th {\n",
              "        text-align: right;\n",
              "    }\n",
              "</style>\n",
              "<table border=\"1\" class=\"dataframe\">\n",
              "  <thead>\n",
              "    <tr style=\"text-align: right;\">\n",
              "      <th></th>\n",
              "      <th>자치구</th>\n",
              "      <th>소계</th>\n",
              "      <th>2013년도 이전</th>\n",
              "      <th>2014년</th>\n",
              "      <th>2015년</th>\n",
              "      <th>2016년</th>\n",
              "    </tr>\n",
              "  </thead>\n",
              "  <tbody>\n",
              "    <tr>\n",
              "      <th>0</th>\n",
              "      <td>강남구</td>\n",
              "      <td>2780</td>\n",
              "      <td>1292</td>\n",
              "      <td>430</td>\n",
              "      <td>584</td>\n",
              "      <td>932</td>\n",
              "    </tr>\n",
              "    <tr>\n",
              "      <th>1</th>\n",
              "      <td>강동구</td>\n",
              "      <td>773</td>\n",
              "      <td>379</td>\n",
              "      <td>99</td>\n",
              "      <td>155</td>\n",
              "      <td>377</td>\n",
              "    </tr>\n",
              "    <tr>\n",
              "      <th>2</th>\n",
              "      <td>강북구</td>\n",
              "      <td>748</td>\n",
              "      <td>369</td>\n",
              "      <td>120</td>\n",
              "      <td>138</td>\n",
              "      <td>204</td>\n",
              "    </tr>\n",
              "    <tr>\n",
              "      <th>3</th>\n",
              "      <td>강서구</td>\n",
              "      <td>884</td>\n",
              "      <td>388</td>\n",
              "      <td>258</td>\n",
              "      <td>184</td>\n",
              "      <td>81</td>\n",
              "    </tr>\n",
              "    <tr>\n",
              "      <th>4</th>\n",
              "      <td>관악구</td>\n",
              "      <td>1496</td>\n",
              "      <td>846</td>\n",
              "      <td>260</td>\n",
              "      <td>390</td>\n",
              "      <td>613</td>\n",
              "    </tr>\n",
              "  </tbody>\n",
              "</table>\n",
              "</div>"
            ],
            "text/plain": [
              "   자치구    소계  2013년도 이전  2014년  2015년  2016년\n",
              "0  강남구  2780       1292    430    584    932\n",
              "1  강동구   773        379     99    155    377\n",
              "2  강북구   748        369    120    138    204\n",
              "3  강서구   884        388    258    184     81\n",
              "4  관악구  1496        846    260    390    613"
            ]
          },
          "metadata": {
            "tags": []
          },
          "execution_count": 7
        }
      ]
    },
    {
      "cell_type": "markdown",
      "metadata": {
        "id": "ikhdBUyQa0V2"
      },
      "source": [
        "### 3) CCTV 데이터 현황 파악\n",
        "* '소계' 오름차순 정렬"
      ]
    },
    {
      "cell_type": "code",
      "metadata": {
        "colab": {
          "base_uri": "https://localhost:8080/",
          "height": 266
        },
        "id": "ZVv2XaZOaxSM",
        "outputId": "d6504218-aaa9-4e38-a2c6-d5b5b75b5ecf"
      },
      "source": [
        "SDF.sort_values(by='소계', ascending=True).head(7)"
      ],
      "execution_count": 8,
      "outputs": [
        {
          "output_type": "execute_result",
          "data": {
            "text/html": [
              "<div>\n",
              "<style scoped>\n",
              "    .dataframe tbody tr th:only-of-type {\n",
              "        vertical-align: middle;\n",
              "    }\n",
              "\n",
              "    .dataframe tbody tr th {\n",
              "        vertical-align: top;\n",
              "    }\n",
              "\n",
              "    .dataframe thead th {\n",
              "        text-align: right;\n",
              "    }\n",
              "</style>\n",
              "<table border=\"1\" class=\"dataframe\">\n",
              "  <thead>\n",
              "    <tr style=\"text-align: right;\">\n",
              "      <th></th>\n",
              "      <th>자치구</th>\n",
              "      <th>소계</th>\n",
              "      <th>2013년도 이전</th>\n",
              "      <th>2014년</th>\n",
              "      <th>2015년</th>\n",
              "      <th>2016년</th>\n",
              "    </tr>\n",
              "  </thead>\n",
              "  <tbody>\n",
              "    <tr>\n",
              "      <th>9</th>\n",
              "      <td>도봉구</td>\n",
              "      <td>485</td>\n",
              "      <td>238</td>\n",
              "      <td>159</td>\n",
              "      <td>42</td>\n",
              "      <td>386</td>\n",
              "    </tr>\n",
              "    <tr>\n",
              "      <th>12</th>\n",
              "      <td>마포구</td>\n",
              "      <td>574</td>\n",
              "      <td>314</td>\n",
              "      <td>118</td>\n",
              "      <td>169</td>\n",
              "      <td>379</td>\n",
              "    </tr>\n",
              "    <tr>\n",
              "      <th>17</th>\n",
              "      <td>송파구</td>\n",
              "      <td>618</td>\n",
              "      <td>529</td>\n",
              "      <td>21</td>\n",
              "      <td>68</td>\n",
              "      <td>463</td>\n",
              "    </tr>\n",
              "    <tr>\n",
              "      <th>24</th>\n",
              "      <td>중랑구</td>\n",
              "      <td>660</td>\n",
              "      <td>509</td>\n",
              "      <td>121</td>\n",
              "      <td>177</td>\n",
              "      <td>109</td>\n",
              "    </tr>\n",
              "    <tr>\n",
              "      <th>23</th>\n",
              "      <td>중구</td>\n",
              "      <td>671</td>\n",
              "      <td>413</td>\n",
              "      <td>190</td>\n",
              "      <td>72</td>\n",
              "      <td>348</td>\n",
              "    </tr>\n",
              "    <tr>\n",
              "      <th>5</th>\n",
              "      <td>광진구</td>\n",
              "      <td>707</td>\n",
              "      <td>573</td>\n",
              "      <td>78</td>\n",
              "      <td>53</td>\n",
              "      <td>174</td>\n",
              "    </tr>\n",
              "    <tr>\n",
              "      <th>2</th>\n",
              "      <td>강북구</td>\n",
              "      <td>748</td>\n",
              "      <td>369</td>\n",
              "      <td>120</td>\n",
              "      <td>138</td>\n",
              "      <td>204</td>\n",
              "    </tr>\n",
              "  </tbody>\n",
              "</table>\n",
              "</div>"
            ],
            "text/plain": [
              "    자치구   소계  2013년도 이전  2014년  2015년  2016년\n",
              "9   도봉구  485        238    159     42    386\n",
              "12  마포구  574        314    118    169    379\n",
              "17  송파구  618        529     21     68    463\n",
              "24  중랑구  660        509    121    177    109\n",
              "23   중구  671        413    190     72    348\n",
              "5   광진구  707        573     78     53    174\n",
              "2   강북구  748        369    120    138    204"
            ]
          },
          "metadata": {
            "tags": []
          },
          "execution_count": 8
        }
      ]
    },
    {
      "cell_type": "markdown",
      "metadata": {
        "id": "APrkf1Ladny5"
      },
      "source": [
        "* '소계' 내림차순 정렬"
      ]
    },
    {
      "cell_type": "code",
      "metadata": {
        "colab": {
          "base_uri": "https://localhost:8080/",
          "height": 266
        },
        "id": "kBmSo7NIdmU1",
        "outputId": "fa7b2afa-ea36-4be0-9a35-13b85edcf6f9"
      },
      "source": [
        "SDF.sort_values(by='소계', ascending=False).head(7)"
      ],
      "execution_count": 9,
      "outputs": [
        {
          "output_type": "execute_result",
          "data": {
            "text/html": [
              "<div>\n",
              "<style scoped>\n",
              "    .dataframe tbody tr th:only-of-type {\n",
              "        vertical-align: middle;\n",
              "    }\n",
              "\n",
              "    .dataframe tbody tr th {\n",
              "        vertical-align: top;\n",
              "    }\n",
              "\n",
              "    .dataframe thead th {\n",
              "        text-align: right;\n",
              "    }\n",
              "</style>\n",
              "<table border=\"1\" class=\"dataframe\">\n",
              "  <thead>\n",
              "    <tr style=\"text-align: right;\">\n",
              "      <th></th>\n",
              "      <th>자치구</th>\n",
              "      <th>소계</th>\n",
              "      <th>2013년도 이전</th>\n",
              "      <th>2014년</th>\n",
              "      <th>2015년</th>\n",
              "      <th>2016년</th>\n",
              "    </tr>\n",
              "  </thead>\n",
              "  <tbody>\n",
              "    <tr>\n",
              "      <th>0</th>\n",
              "      <td>강남구</td>\n",
              "      <td>2780</td>\n",
              "      <td>1292</td>\n",
              "      <td>430</td>\n",
              "      <td>584</td>\n",
              "      <td>932</td>\n",
              "    </tr>\n",
              "    <tr>\n",
              "      <th>18</th>\n",
              "      <td>양천구</td>\n",
              "      <td>2034</td>\n",
              "      <td>1843</td>\n",
              "      <td>142</td>\n",
              "      <td>30</td>\n",
              "      <td>467</td>\n",
              "    </tr>\n",
              "    <tr>\n",
              "      <th>14</th>\n",
              "      <td>서초구</td>\n",
              "      <td>1930</td>\n",
              "      <td>1406</td>\n",
              "      <td>157</td>\n",
              "      <td>336</td>\n",
              "      <td>398</td>\n",
              "    </tr>\n",
              "    <tr>\n",
              "      <th>21</th>\n",
              "      <td>은평구</td>\n",
              "      <td>1873</td>\n",
              "      <td>1138</td>\n",
              "      <td>224</td>\n",
              "      <td>278</td>\n",
              "      <td>468</td>\n",
              "    </tr>\n",
              "    <tr>\n",
              "      <th>20</th>\n",
              "      <td>용산구</td>\n",
              "      <td>1624</td>\n",
              "      <td>1368</td>\n",
              "      <td>218</td>\n",
              "      <td>112</td>\n",
              "      <td>398</td>\n",
              "    </tr>\n",
              "    <tr>\n",
              "      <th>6</th>\n",
              "      <td>구로구</td>\n",
              "      <td>1561</td>\n",
              "      <td>1142</td>\n",
              "      <td>173</td>\n",
              "      <td>246</td>\n",
              "      <td>323</td>\n",
              "    </tr>\n",
              "    <tr>\n",
              "      <th>4</th>\n",
              "      <td>관악구</td>\n",
              "      <td>1496</td>\n",
              "      <td>846</td>\n",
              "      <td>260</td>\n",
              "      <td>390</td>\n",
              "      <td>613</td>\n",
              "    </tr>\n",
              "  </tbody>\n",
              "</table>\n",
              "</div>"
            ],
            "text/plain": [
              "    자치구    소계  2013년도 이전  2014년  2015년  2016년\n",
              "0   강남구  2780       1292    430    584    932\n",
              "18  양천구  2034       1843    142     30    467\n",
              "14  서초구  1930       1406    157    336    398\n",
              "21  은평구  1873       1138    224    278    468\n",
              "20  용산구  1624       1368    218    112    398\n",
              "6   구로구  1561       1142    173    246    323\n",
              "4   관악구  1496        846    260    390    613"
            ]
          },
          "metadata": {
            "tags": []
          },
          "execution_count": 9
        }
      ]
    },
    {
      "cell_type": "markdown",
      "metadata": {
        "id": "ONw0zl7zdwl0"
      },
      "source": [
        "### 4) 최근증가율 열(col) 추가\n",
        "* 최근 3년 CCTV '최근증가율' 열 추가"
      ]
    },
    {
      "cell_type": "code",
      "metadata": {
        "colab": {
          "base_uri": "https://localhost:8080/",
          "height": 266
        },
        "id": "HqRYhhs5dvAU",
        "outputId": "604faab0-58ad-4594-d83a-21da10d840d7"
      },
      "source": [
        "SDF['최근증가율'] = ((SDF['2014년']+SDF['2015년']+SDF['2016년'])/SDF['2013년도 이전'])*100\n",
        "\n",
        "SDF.sort_values(by='최근증가율', ascending=False).head(7)"
      ],
      "execution_count": 10,
      "outputs": [
        {
          "output_type": "execute_result",
          "data": {
            "text/html": [
              "<div>\n",
              "<style scoped>\n",
              "    .dataframe tbody tr th:only-of-type {\n",
              "        vertical-align: middle;\n",
              "    }\n",
              "\n",
              "    .dataframe tbody tr th {\n",
              "        vertical-align: top;\n",
              "    }\n",
              "\n",
              "    .dataframe thead th {\n",
              "        text-align: right;\n",
              "    }\n",
              "</style>\n",
              "<table border=\"1\" class=\"dataframe\">\n",
              "  <thead>\n",
              "    <tr style=\"text-align: right;\">\n",
              "      <th></th>\n",
              "      <th>자치구</th>\n",
              "      <th>소계</th>\n",
              "      <th>2013년도 이전</th>\n",
              "      <th>2014년</th>\n",
              "      <th>2015년</th>\n",
              "      <th>2016년</th>\n",
              "      <th>최근증가율</th>\n",
              "    </tr>\n",
              "  </thead>\n",
              "  <tbody>\n",
              "    <tr>\n",
              "      <th>22</th>\n",
              "      <td>종로구</td>\n",
              "      <td>1002</td>\n",
              "      <td>464</td>\n",
              "      <td>314</td>\n",
              "      <td>211</td>\n",
              "      <td>630</td>\n",
              "      <td>248.922414</td>\n",
              "    </tr>\n",
              "    <tr>\n",
              "      <th>9</th>\n",
              "      <td>도봉구</td>\n",
              "      <td>485</td>\n",
              "      <td>238</td>\n",
              "      <td>159</td>\n",
              "      <td>42</td>\n",
              "      <td>386</td>\n",
              "      <td>246.638655</td>\n",
              "    </tr>\n",
              "    <tr>\n",
              "      <th>12</th>\n",
              "      <td>마포구</td>\n",
              "      <td>574</td>\n",
              "      <td>314</td>\n",
              "      <td>118</td>\n",
              "      <td>169</td>\n",
              "      <td>379</td>\n",
              "      <td>212.101911</td>\n",
              "    </tr>\n",
              "    <tr>\n",
              "      <th>8</th>\n",
              "      <td>노원구</td>\n",
              "      <td>1265</td>\n",
              "      <td>542</td>\n",
              "      <td>57</td>\n",
              "      <td>451</td>\n",
              "      <td>516</td>\n",
              "      <td>188.929889</td>\n",
              "    </tr>\n",
              "    <tr>\n",
              "      <th>1</th>\n",
              "      <td>강동구</td>\n",
              "      <td>773</td>\n",
              "      <td>379</td>\n",
              "      <td>99</td>\n",
              "      <td>155</td>\n",
              "      <td>377</td>\n",
              "      <td>166.490765</td>\n",
              "    </tr>\n",
              "    <tr>\n",
              "      <th>19</th>\n",
              "      <td>영등포구</td>\n",
              "      <td>904</td>\n",
              "      <td>495</td>\n",
              "      <td>214</td>\n",
              "      <td>195</td>\n",
              "      <td>373</td>\n",
              "      <td>157.979798</td>\n",
              "    </tr>\n",
              "    <tr>\n",
              "      <th>0</th>\n",
              "      <td>강남구</td>\n",
              "      <td>2780</td>\n",
              "      <td>1292</td>\n",
              "      <td>430</td>\n",
              "      <td>584</td>\n",
              "      <td>932</td>\n",
              "      <td>150.619195</td>\n",
              "    </tr>\n",
              "  </tbody>\n",
              "</table>\n",
              "</div>"
            ],
            "text/plain": [
              "     자치구    소계  2013년도 이전  2014년  2015년  2016년       최근증가율\n",
              "22   종로구  1002        464    314    211    630  248.922414\n",
              "9    도봉구   485        238    159     42    386  246.638655\n",
              "12   마포구   574        314    118    169    379  212.101911\n",
              "8    노원구  1265        542     57    451    516  188.929889\n",
              "1    강동구   773        379     99    155    377  166.490765\n",
              "19  영등포구   904        495    214    195    373  157.979798\n",
              "0    강남구  2780       1292    430    584    932  150.619195"
            ]
          },
          "metadata": {
            "tags": []
          },
          "execution_count": 10
        }
      ]
    },
    {
      "cell_type": "markdown",
      "metadata": {
        "id": "lr4y9T0meNTd"
      },
      "source": [
        "## 3. 'seoulPoplulation.xls' 파일 전처리\n",
        "\n",
        "### 1) 'seoulPopulation.xls'파일 읽어오기"
      ]
    },
    {
      "cell_type": "code",
      "metadata": {
        "colab": {
          "base_uri": "https://localhost:8080/",
          "height": 204
        },
        "id": "zfab5luOeKu0",
        "outputId": "d0cdbbfe-bab1-4e56-8c8f-aa95690b4df8"
      },
      "source": [
        "SDFP = pd.read_excel('seoulPopulation.xls', header=2, usecols= 'B,D,G,J,N')\n",
        "                    # encoding = 'UTF-8')\n",
        "\n",
        "SDFP.head()"
      ],
      "execution_count": 12,
      "outputs": [
        {
          "output_type": "execute_result",
          "data": {
            "text/html": [
              "<div>\n",
              "<style scoped>\n",
              "    .dataframe tbody tr th:only-of-type {\n",
              "        vertical-align: middle;\n",
              "    }\n",
              "\n",
              "    .dataframe tbody tr th {\n",
              "        vertical-align: top;\n",
              "    }\n",
              "\n",
              "    .dataframe thead th {\n",
              "        text-align: right;\n",
              "    }\n",
              "</style>\n",
              "<table border=\"1\" class=\"dataframe\">\n",
              "  <thead>\n",
              "    <tr style=\"text-align: right;\">\n",
              "      <th></th>\n",
              "      <th>자치구</th>\n",
              "      <th>계</th>\n",
              "      <th>계.1</th>\n",
              "      <th>계.2</th>\n",
              "      <th>65세이상고령자</th>\n",
              "    </tr>\n",
              "  </thead>\n",
              "  <tbody>\n",
              "    <tr>\n",
              "      <th>0</th>\n",
              "      <td>합계</td>\n",
              "      <td>10197604.0</td>\n",
              "      <td>9926968.0</td>\n",
              "      <td>270636.0</td>\n",
              "      <td>1321458.0</td>\n",
              "    </tr>\n",
              "    <tr>\n",
              "      <th>1</th>\n",
              "      <td>종로구</td>\n",
              "      <td>162820.0</td>\n",
              "      <td>153589.0</td>\n",
              "      <td>9231.0</td>\n",
              "      <td>25425.0</td>\n",
              "    </tr>\n",
              "    <tr>\n",
              "      <th>2</th>\n",
              "      <td>중구</td>\n",
              "      <td>133240.0</td>\n",
              "      <td>124312.0</td>\n",
              "      <td>8928.0</td>\n",
              "      <td>20764.0</td>\n",
              "    </tr>\n",
              "    <tr>\n",
              "      <th>3</th>\n",
              "      <td>용산구</td>\n",
              "      <td>244203.0</td>\n",
              "      <td>229456.0</td>\n",
              "      <td>14747.0</td>\n",
              "      <td>36231.0</td>\n",
              "    </tr>\n",
              "    <tr>\n",
              "      <th>4</th>\n",
              "      <td>성동구</td>\n",
              "      <td>311244.0</td>\n",
              "      <td>303380.0</td>\n",
              "      <td>7864.0</td>\n",
              "      <td>39997.0</td>\n",
              "    </tr>\n",
              "  </tbody>\n",
              "</table>\n",
              "</div>"
            ],
            "text/plain": [
              "   자치구           계        계.1       계.2   65세이상고령자\n",
              "0   합계  10197604.0  9926968.0  270636.0  1321458.0\n",
              "1  종로구    162820.0   153589.0    9231.0    25425.0\n",
              "2   중구    133240.0   124312.0    8928.0    20764.0\n",
              "3  용산구    244203.0   229456.0   14747.0    36231.0\n",
              "4  성동구    311244.0   303380.0    7864.0    39997.0"
            ]
          },
          "metadata": {
            "tags": []
          },
          "execution_count": 12
        }
      ]
    },
    {
      "cell_type": "markdown",
      "metadata": {
        "id": "wakFmm09e0Ae"
      },
      "source": [
        "### 2) column 이름 변경\n",
        "    "
      ]
    },
    {
      "cell_type": "code",
      "metadata": {
        "colab": {
          "base_uri": "https://localhost:8080/",
          "height": 204
        },
        "id": "PmhkyRCgeqwl",
        "outputId": "24629aea-f0c5-4710-f7d1-5ec2bf7e4c3c"
      },
      "source": [
        "SDFP.rename(columns={'계':'인구수', '계.1':'한국인', '계.2':'외국인', '65세이상고령자':'고령자'}, inplace=True)\n",
        "\n",
        "SDFP.head()"
      ],
      "execution_count": 13,
      "outputs": [
        {
          "output_type": "execute_result",
          "data": {
            "text/html": [
              "<div>\n",
              "<style scoped>\n",
              "    .dataframe tbody tr th:only-of-type {\n",
              "        vertical-align: middle;\n",
              "    }\n",
              "\n",
              "    .dataframe tbody tr th {\n",
              "        vertical-align: top;\n",
              "    }\n",
              "\n",
              "    .dataframe thead th {\n",
              "        text-align: right;\n",
              "    }\n",
              "</style>\n",
              "<table border=\"1\" class=\"dataframe\">\n",
              "  <thead>\n",
              "    <tr style=\"text-align: right;\">\n",
              "      <th></th>\n",
              "      <th>자치구</th>\n",
              "      <th>인구수</th>\n",
              "      <th>한국인</th>\n",
              "      <th>외국인</th>\n",
              "      <th>고령자</th>\n",
              "    </tr>\n",
              "  </thead>\n",
              "  <tbody>\n",
              "    <tr>\n",
              "      <th>0</th>\n",
              "      <td>합계</td>\n",
              "      <td>10197604.0</td>\n",
              "      <td>9926968.0</td>\n",
              "      <td>270636.0</td>\n",
              "      <td>1321458.0</td>\n",
              "    </tr>\n",
              "    <tr>\n",
              "      <th>1</th>\n",
              "      <td>종로구</td>\n",
              "      <td>162820.0</td>\n",
              "      <td>153589.0</td>\n",
              "      <td>9231.0</td>\n",
              "      <td>25425.0</td>\n",
              "    </tr>\n",
              "    <tr>\n",
              "      <th>2</th>\n",
              "      <td>중구</td>\n",
              "      <td>133240.0</td>\n",
              "      <td>124312.0</td>\n",
              "      <td>8928.0</td>\n",
              "      <td>20764.0</td>\n",
              "    </tr>\n",
              "    <tr>\n",
              "      <th>3</th>\n",
              "      <td>용산구</td>\n",
              "      <td>244203.0</td>\n",
              "      <td>229456.0</td>\n",
              "      <td>14747.0</td>\n",
              "      <td>36231.0</td>\n",
              "    </tr>\n",
              "    <tr>\n",
              "      <th>4</th>\n",
              "      <td>성동구</td>\n",
              "      <td>311244.0</td>\n",
              "      <td>303380.0</td>\n",
              "      <td>7864.0</td>\n",
              "      <td>39997.0</td>\n",
              "    </tr>\n",
              "  </tbody>\n",
              "</table>\n",
              "</div>"
            ],
            "text/plain": [
              "   자치구         인구수        한국인       외국인        고령자\n",
              "0   합계  10197604.0  9926968.0  270636.0  1321458.0\n",
              "1  종로구    162820.0   153589.0    9231.0    25425.0\n",
              "2   중구    133240.0   124312.0    8928.0    20764.0\n",
              "3  용산구    244203.0   229456.0   14747.0    36231.0\n",
              "4  성동구    311244.0   303380.0    7864.0    39997.0"
            ]
          },
          "metadata": {
            "tags": []
          },
          "execution_count": 13
        }
      ]
    },
    {
      "cell_type": "markdown",
      "metadata": {
        "id": "eqfhDAjAfG-I"
      },
      "source": [
        "### 3) 인구 데이터 현황 파악\n",
        "* 합계행 삭제"
      ]
    },
    {
      "cell_type": "code",
      "metadata": {
        "colab": {
          "base_uri": "https://localhost:8080/",
          "height": 204
        },
        "id": "E6gGnvxufFj8",
        "outputId": "c9d425b1-8886-44d5-f461-14e3cc8c01ae"
      },
      "source": [
        "SDFP.drop(index=0, inplace = True)\n",
        "SDFP.head()"
      ],
      "execution_count": 14,
      "outputs": [
        {
          "output_type": "execute_result",
          "data": {
            "text/html": [
              "<div>\n",
              "<style scoped>\n",
              "    .dataframe tbody tr th:only-of-type {\n",
              "        vertical-align: middle;\n",
              "    }\n",
              "\n",
              "    .dataframe tbody tr th {\n",
              "        vertical-align: top;\n",
              "    }\n",
              "\n",
              "    .dataframe thead th {\n",
              "        text-align: right;\n",
              "    }\n",
              "</style>\n",
              "<table border=\"1\" class=\"dataframe\">\n",
              "  <thead>\n",
              "    <tr style=\"text-align: right;\">\n",
              "      <th></th>\n",
              "      <th>자치구</th>\n",
              "      <th>인구수</th>\n",
              "      <th>한국인</th>\n",
              "      <th>외국인</th>\n",
              "      <th>고령자</th>\n",
              "    </tr>\n",
              "  </thead>\n",
              "  <tbody>\n",
              "    <tr>\n",
              "      <th>1</th>\n",
              "      <td>종로구</td>\n",
              "      <td>162820.0</td>\n",
              "      <td>153589.0</td>\n",
              "      <td>9231.0</td>\n",
              "      <td>25425.0</td>\n",
              "    </tr>\n",
              "    <tr>\n",
              "      <th>2</th>\n",
              "      <td>중구</td>\n",
              "      <td>133240.0</td>\n",
              "      <td>124312.0</td>\n",
              "      <td>8928.0</td>\n",
              "      <td>20764.0</td>\n",
              "    </tr>\n",
              "    <tr>\n",
              "      <th>3</th>\n",
              "      <td>용산구</td>\n",
              "      <td>244203.0</td>\n",
              "      <td>229456.0</td>\n",
              "      <td>14747.0</td>\n",
              "      <td>36231.0</td>\n",
              "    </tr>\n",
              "    <tr>\n",
              "      <th>4</th>\n",
              "      <td>성동구</td>\n",
              "      <td>311244.0</td>\n",
              "      <td>303380.0</td>\n",
              "      <td>7864.0</td>\n",
              "      <td>39997.0</td>\n",
              "    </tr>\n",
              "    <tr>\n",
              "      <th>5</th>\n",
              "      <td>광진구</td>\n",
              "      <td>372164.0</td>\n",
              "      <td>357211.0</td>\n",
              "      <td>14953.0</td>\n",
              "      <td>42214.0</td>\n",
              "    </tr>\n",
              "  </tbody>\n",
              "</table>\n",
              "</div>"
            ],
            "text/plain": [
              "   자치구       인구수       한국인      외국인      고령자\n",
              "1  종로구  162820.0  153589.0   9231.0  25425.0\n",
              "2   중구  133240.0  124312.0   8928.0  20764.0\n",
              "3  용산구  244203.0  229456.0  14747.0  36231.0\n",
              "4  성동구  311244.0  303380.0   7864.0  39997.0\n",
              "5  광진구  372164.0  357211.0  14953.0  42214.0"
            ]
          },
          "metadata": {
            "tags": []
          },
          "execution_count": 14
        }
      ]
    },
    {
      "cell_type": "markdown",
      "metadata": {
        "id": "4yWGa5Dzgljt"
      },
      "source": [
        "* '자치구'열의 unique 정보 확인"
      ]
    },
    {
      "cell_type": "code",
      "metadata": {
        "colab": {
          "base_uri": "https://localhost:8080/"
        },
        "id": "pPnQqUPNfUyl",
        "outputId": "b8e5aa65-d397-47c9-e6d7-58cbd7e5cb13"
      },
      "source": [
        "SDFP['자치구'].unique()"
      ],
      "execution_count": 15,
      "outputs": [
        {
          "output_type": "execute_result",
          "data": {
            "text/plain": [
              "array(['종로구', '중구', '용산구', '성동구', '광진구', '동대문구', '중랑구', '성북구', '강북구',\n",
              "       '도봉구', '노원구', '은평구', '서대문구', '마포구', '양천구', '강서구', '구로구', '금천구',\n",
              "       '영등포구', '동작구', '관악구', '서초구', '강남구', '송파구', '강동구', nan],\n",
              "      dtype=object)"
            ]
          },
          "metadata": {
            "tags": []
          },
          "execution_count": 15
        }
      ]
    },
    {
      "cell_type": "markdown",
      "metadata": {
        "id": "ugvFv60lhfuc"
      },
      "source": [
        "* NaN 정보 확인"
      ]
    },
    {
      "cell_type": "code",
      "metadata": {
        "colab": {
          "base_uri": "https://localhost:8080/",
          "height": 80
        },
        "id": "f7uZddkTgyOF",
        "outputId": "a4af982d-6765-492e-df77-114ade011650"
      },
      "source": [
        "SDFP[SDFP['자치구'].isnull()]"
      ],
      "execution_count": 16,
      "outputs": [
        {
          "output_type": "execute_result",
          "data": {
            "text/html": [
              "<div>\n",
              "<style scoped>\n",
              "    .dataframe tbody tr th:only-of-type {\n",
              "        vertical-align: middle;\n",
              "    }\n",
              "\n",
              "    .dataframe tbody tr th {\n",
              "        vertical-align: top;\n",
              "    }\n",
              "\n",
              "    .dataframe thead th {\n",
              "        text-align: right;\n",
              "    }\n",
              "</style>\n",
              "<table border=\"1\" class=\"dataframe\">\n",
              "  <thead>\n",
              "    <tr style=\"text-align: right;\">\n",
              "      <th></th>\n",
              "      <th>자치구</th>\n",
              "      <th>인구수</th>\n",
              "      <th>한국인</th>\n",
              "      <th>외국인</th>\n",
              "      <th>고령자</th>\n",
              "    </tr>\n",
              "  </thead>\n",
              "  <tbody>\n",
              "    <tr>\n",
              "      <th>26</th>\n",
              "      <td>NaN</td>\n",
              "      <td>NaN</td>\n",
              "      <td>NaN</td>\n",
              "      <td>NaN</td>\n",
              "      <td>NaN</td>\n",
              "    </tr>\n",
              "  </tbody>\n",
              "</table>\n",
              "</div>"
            ],
            "text/plain": [
              "    자치구  인구수  한국인  외국인  고령자\n",
              "26  NaN  NaN  NaN  NaN  NaN"
            ]
          },
          "metadata": {
            "tags": []
          },
          "execution_count": 16
        }
      ]
    },
    {
      "cell_type": "code",
      "metadata": {
        "colab": {
          "base_uri": "https://localhost:8080/",
          "height": 204
        },
        "id": "puSHl462hl09",
        "outputId": "0b8af0fb-592c-4083-f531-e40bf31e2f5b"
      },
      "source": [
        "SDFP.tail()"
      ],
      "execution_count": 17,
      "outputs": [
        {
          "output_type": "execute_result",
          "data": {
            "text/html": [
              "<div>\n",
              "<style scoped>\n",
              "    .dataframe tbody tr th:only-of-type {\n",
              "        vertical-align: middle;\n",
              "    }\n",
              "\n",
              "    .dataframe tbody tr th {\n",
              "        vertical-align: top;\n",
              "    }\n",
              "\n",
              "    .dataframe thead th {\n",
              "        text-align: right;\n",
              "    }\n",
              "</style>\n",
              "<table border=\"1\" class=\"dataframe\">\n",
              "  <thead>\n",
              "    <tr style=\"text-align: right;\">\n",
              "      <th></th>\n",
              "      <th>자치구</th>\n",
              "      <th>인구수</th>\n",
              "      <th>한국인</th>\n",
              "      <th>외국인</th>\n",
              "      <th>고령자</th>\n",
              "    </tr>\n",
              "  </thead>\n",
              "  <tbody>\n",
              "    <tr>\n",
              "      <th>22</th>\n",
              "      <td>서초구</td>\n",
              "      <td>450310.0</td>\n",
              "      <td>445994.0</td>\n",
              "      <td>4316.0</td>\n",
              "      <td>51733.0</td>\n",
              "    </tr>\n",
              "    <tr>\n",
              "      <th>23</th>\n",
              "      <td>강남구</td>\n",
              "      <td>570500.0</td>\n",
              "      <td>565550.0</td>\n",
              "      <td>4950.0</td>\n",
              "      <td>63167.0</td>\n",
              "    </tr>\n",
              "    <tr>\n",
              "      <th>24</th>\n",
              "      <td>송파구</td>\n",
              "      <td>667483.0</td>\n",
              "      <td>660584.0</td>\n",
              "      <td>6899.0</td>\n",
              "      <td>72506.0</td>\n",
              "    </tr>\n",
              "    <tr>\n",
              "      <th>25</th>\n",
              "      <td>강동구</td>\n",
              "      <td>453233.0</td>\n",
              "      <td>449019.0</td>\n",
              "      <td>4214.0</td>\n",
              "      <td>54622.0</td>\n",
              "    </tr>\n",
              "    <tr>\n",
              "      <th>26</th>\n",
              "      <td>NaN</td>\n",
              "      <td>NaN</td>\n",
              "      <td>NaN</td>\n",
              "      <td>NaN</td>\n",
              "      <td>NaN</td>\n",
              "    </tr>\n",
              "  </tbody>\n",
              "</table>\n",
              "</div>"
            ],
            "text/plain": [
              "    자치구       인구수       한국인     외국인      고령자\n",
              "22  서초구  450310.0  445994.0  4316.0  51733.0\n",
              "23  강남구  570500.0  565550.0  4950.0  63167.0\n",
              "24  송파구  667483.0  660584.0  6899.0  72506.0\n",
              "25  강동구  453233.0  449019.0  4214.0  54622.0\n",
              "26  NaN       NaN       NaN     NaN      NaN"
            ]
          },
          "metadata": {
            "tags": []
          },
          "execution_count": 17
        }
      ]
    },
    {
      "cell_type": "markdown",
      "metadata": {
        "id": "nmCZ-fqshqnh"
      },
      "source": [
        "* NaN 행 삭제"
      ]
    },
    {
      "cell_type": "code",
      "metadata": {
        "colab": {
          "base_uri": "https://localhost:8080/",
          "height": 204
        },
        "id": "gDy3QSEohpOn",
        "outputId": "b7470319-5e20-4b16-d544-373aa43b1339"
      },
      "source": [
        "SDFP.drop([26], inplace = True)\n",
        "SDFP.tail()"
      ],
      "execution_count": 18,
      "outputs": [
        {
          "output_type": "execute_result",
          "data": {
            "text/html": [
              "<div>\n",
              "<style scoped>\n",
              "    .dataframe tbody tr th:only-of-type {\n",
              "        vertical-align: middle;\n",
              "    }\n",
              "\n",
              "    .dataframe tbody tr th {\n",
              "        vertical-align: top;\n",
              "    }\n",
              "\n",
              "    .dataframe thead th {\n",
              "        text-align: right;\n",
              "    }\n",
              "</style>\n",
              "<table border=\"1\" class=\"dataframe\">\n",
              "  <thead>\n",
              "    <tr style=\"text-align: right;\">\n",
              "      <th></th>\n",
              "      <th>자치구</th>\n",
              "      <th>인구수</th>\n",
              "      <th>한국인</th>\n",
              "      <th>외국인</th>\n",
              "      <th>고령자</th>\n",
              "    </tr>\n",
              "  </thead>\n",
              "  <tbody>\n",
              "    <tr>\n",
              "      <th>21</th>\n",
              "      <td>관악구</td>\n",
              "      <td>525515.0</td>\n",
              "      <td>507203.0</td>\n",
              "      <td>18312.0</td>\n",
              "      <td>68082.0</td>\n",
              "    </tr>\n",
              "    <tr>\n",
              "      <th>22</th>\n",
              "      <td>서초구</td>\n",
              "      <td>450310.0</td>\n",
              "      <td>445994.0</td>\n",
              "      <td>4316.0</td>\n",
              "      <td>51733.0</td>\n",
              "    </tr>\n",
              "    <tr>\n",
              "      <th>23</th>\n",
              "      <td>강남구</td>\n",
              "      <td>570500.0</td>\n",
              "      <td>565550.0</td>\n",
              "      <td>4950.0</td>\n",
              "      <td>63167.0</td>\n",
              "    </tr>\n",
              "    <tr>\n",
              "      <th>24</th>\n",
              "      <td>송파구</td>\n",
              "      <td>667483.0</td>\n",
              "      <td>660584.0</td>\n",
              "      <td>6899.0</td>\n",
              "      <td>72506.0</td>\n",
              "    </tr>\n",
              "    <tr>\n",
              "      <th>25</th>\n",
              "      <td>강동구</td>\n",
              "      <td>453233.0</td>\n",
              "      <td>449019.0</td>\n",
              "      <td>4214.0</td>\n",
              "      <td>54622.0</td>\n",
              "    </tr>\n",
              "  </tbody>\n",
              "</table>\n",
              "</div>"
            ],
            "text/plain": [
              "    자치구       인구수       한국인      외국인      고령자\n",
              "21  관악구  525515.0  507203.0  18312.0  68082.0\n",
              "22  서초구  450310.0  445994.0   4316.0  51733.0\n",
              "23  강남구  570500.0  565550.0   4950.0  63167.0\n",
              "24  송파구  667483.0  660584.0   6899.0  72506.0\n",
              "25  강동구  453233.0  449019.0   4214.0  54622.0"
            ]
          },
          "metadata": {
            "tags": []
          },
          "execution_count": 18
        }
      ]
    },
    {
      "cell_type": "markdown",
      "metadata": {
        "id": "wMWSMQwGhzHJ"
      },
      "source": [
        "* '외국인비율'과 '고령자비율' 열 계산 후 추가"
      ]
    },
    {
      "cell_type": "code",
      "metadata": {
        "colab": {
          "base_uri": "https://localhost:8080/",
          "height": 204
        },
        "id": "wnhBFo-ohxFl",
        "outputId": "a89be8c1-4d12-41b9-a90b-e7fe93d286d2"
      },
      "source": [
        "SDFP['외국인비율'] = (SDFP['외국인']/SDFP['인구수'])*100\n",
        "SDFP['고령자비율'] = (SDFP['고령자']/SDFP['외국인'])*100\n",
        "\n",
        "SDFP.head()"
      ],
      "execution_count": 19,
      "outputs": [
        {
          "output_type": "execute_result",
          "data": {
            "text/html": [
              "<div>\n",
              "<style scoped>\n",
              "    .dataframe tbody tr th:only-of-type {\n",
              "        vertical-align: middle;\n",
              "    }\n",
              "\n",
              "    .dataframe tbody tr th {\n",
              "        vertical-align: top;\n",
              "    }\n",
              "\n",
              "    .dataframe thead th {\n",
              "        text-align: right;\n",
              "    }\n",
              "</style>\n",
              "<table border=\"1\" class=\"dataframe\">\n",
              "  <thead>\n",
              "    <tr style=\"text-align: right;\">\n",
              "      <th></th>\n",
              "      <th>자치구</th>\n",
              "      <th>인구수</th>\n",
              "      <th>한국인</th>\n",
              "      <th>외국인</th>\n",
              "      <th>고령자</th>\n",
              "      <th>외국인비율</th>\n",
              "      <th>고령자비율</th>\n",
              "    </tr>\n",
              "  </thead>\n",
              "  <tbody>\n",
              "    <tr>\n",
              "      <th>1</th>\n",
              "      <td>종로구</td>\n",
              "      <td>162820.0</td>\n",
              "      <td>153589.0</td>\n",
              "      <td>9231.0</td>\n",
              "      <td>25425.0</td>\n",
              "      <td>5.669451</td>\n",
              "      <td>275.430614</td>\n",
              "    </tr>\n",
              "    <tr>\n",
              "      <th>2</th>\n",
              "      <td>중구</td>\n",
              "      <td>133240.0</td>\n",
              "      <td>124312.0</td>\n",
              "      <td>8928.0</td>\n",
              "      <td>20764.0</td>\n",
              "      <td>6.700690</td>\n",
              "      <td>232.571685</td>\n",
              "    </tr>\n",
              "    <tr>\n",
              "      <th>3</th>\n",
              "      <td>용산구</td>\n",
              "      <td>244203.0</td>\n",
              "      <td>229456.0</td>\n",
              "      <td>14747.0</td>\n",
              "      <td>36231.0</td>\n",
              "      <td>6.038828</td>\n",
              "      <td>245.683868</td>\n",
              "    </tr>\n",
              "    <tr>\n",
              "      <th>4</th>\n",
              "      <td>성동구</td>\n",
              "      <td>311244.0</td>\n",
              "      <td>303380.0</td>\n",
              "      <td>7864.0</td>\n",
              "      <td>39997.0</td>\n",
              "      <td>2.526635</td>\n",
              "      <td>508.608850</td>\n",
              "    </tr>\n",
              "    <tr>\n",
              "      <th>5</th>\n",
              "      <td>광진구</td>\n",
              "      <td>372164.0</td>\n",
              "      <td>357211.0</td>\n",
              "      <td>14953.0</td>\n",
              "      <td>42214.0</td>\n",
              "      <td>4.017852</td>\n",
              "      <td>282.311242</td>\n",
              "    </tr>\n",
              "  </tbody>\n",
              "</table>\n",
              "</div>"
            ],
            "text/plain": [
              "   자치구       인구수       한국인      외국인      고령자     외국인비율       고령자비율\n",
              "1  종로구  162820.0  153589.0   9231.0  25425.0  5.669451  275.430614\n",
              "2   중구  133240.0  124312.0   8928.0  20764.0  6.700690  232.571685\n",
              "3  용산구  244203.0  229456.0  14747.0  36231.0  6.038828  245.683868\n",
              "4  성동구  311244.0  303380.0   7864.0  39997.0  2.526635  508.608850\n",
              "5  광진구  372164.0  357211.0  14953.0  42214.0  4.017852  282.311242"
            ]
          },
          "metadata": {
            "tags": []
          },
          "execution_count": 19
        }
      ]
    },
    {
      "cell_type": "markdown",
      "metadata": {
        "id": "nNRdSeFJiL7W"
      },
      "source": [
        "* 인구수 내림차순 정렬"
      ]
    },
    {
      "cell_type": "code",
      "metadata": {
        "colab": {
          "base_uri": "https://localhost:8080/",
          "height": 266
        },
        "id": "6wNn03OGiJWO",
        "outputId": "ca3a9b1e-e5c0-4e81-bc7c-b0af7ca93e36"
      },
      "source": [
        "SDFP.sort_values(by='인구수', ascending=False).head(7)"
      ],
      "execution_count": 20,
      "outputs": [
        {
          "output_type": "execute_result",
          "data": {
            "text/html": [
              "<div>\n",
              "<style scoped>\n",
              "    .dataframe tbody tr th:only-of-type {\n",
              "        vertical-align: middle;\n",
              "    }\n",
              "\n",
              "    .dataframe tbody tr th {\n",
              "        vertical-align: top;\n",
              "    }\n",
              "\n",
              "    .dataframe thead th {\n",
              "        text-align: right;\n",
              "    }\n",
              "</style>\n",
              "<table border=\"1\" class=\"dataframe\">\n",
              "  <thead>\n",
              "    <tr style=\"text-align: right;\">\n",
              "      <th></th>\n",
              "      <th>자치구</th>\n",
              "      <th>인구수</th>\n",
              "      <th>한국인</th>\n",
              "      <th>외국인</th>\n",
              "      <th>고령자</th>\n",
              "      <th>외국인비율</th>\n",
              "      <th>고령자비율</th>\n",
              "    </tr>\n",
              "  </thead>\n",
              "  <tbody>\n",
              "    <tr>\n",
              "      <th>24</th>\n",
              "      <td>송파구</td>\n",
              "      <td>667483.0</td>\n",
              "      <td>660584.0</td>\n",
              "      <td>6899.0</td>\n",
              "      <td>72506.0</td>\n",
              "      <td>1.033584</td>\n",
              "      <td>1050.963908</td>\n",
              "    </tr>\n",
              "    <tr>\n",
              "      <th>16</th>\n",
              "      <td>강서구</td>\n",
              "      <td>603772.0</td>\n",
              "      <td>597248.0</td>\n",
              "      <td>6524.0</td>\n",
              "      <td>72548.0</td>\n",
              "      <td>1.080540</td>\n",
              "      <td>1112.017167</td>\n",
              "    </tr>\n",
              "    <tr>\n",
              "      <th>23</th>\n",
              "      <td>강남구</td>\n",
              "      <td>570500.0</td>\n",
              "      <td>565550.0</td>\n",
              "      <td>4950.0</td>\n",
              "      <td>63167.0</td>\n",
              "      <td>0.867660</td>\n",
              "      <td>1276.101010</td>\n",
              "    </tr>\n",
              "    <tr>\n",
              "      <th>11</th>\n",
              "      <td>노원구</td>\n",
              "      <td>569384.0</td>\n",
              "      <td>565565.0</td>\n",
              "      <td>3819.0</td>\n",
              "      <td>71941.0</td>\n",
              "      <td>0.670725</td>\n",
              "      <td>1883.765384</td>\n",
              "    </tr>\n",
              "    <tr>\n",
              "      <th>21</th>\n",
              "      <td>관악구</td>\n",
              "      <td>525515.0</td>\n",
              "      <td>507203.0</td>\n",
              "      <td>18312.0</td>\n",
              "      <td>68082.0</td>\n",
              "      <td>3.484582</td>\n",
              "      <td>371.788991</td>\n",
              "    </tr>\n",
              "    <tr>\n",
              "      <th>12</th>\n",
              "      <td>은평구</td>\n",
              "      <td>494388.0</td>\n",
              "      <td>489943.0</td>\n",
              "      <td>4445.0</td>\n",
              "      <td>72334.0</td>\n",
              "      <td>0.899091</td>\n",
              "      <td>1627.311586</td>\n",
              "    </tr>\n",
              "    <tr>\n",
              "      <th>15</th>\n",
              "      <td>양천구</td>\n",
              "      <td>479978.0</td>\n",
              "      <td>475949.0</td>\n",
              "      <td>4029.0</td>\n",
              "      <td>52975.0</td>\n",
              "      <td>0.839413</td>\n",
              "      <td>1314.842393</td>\n",
              "    </tr>\n",
              "  </tbody>\n",
              "</table>\n",
              "</div>"
            ],
            "text/plain": [
              "    자치구       인구수       한국인      외국인      고령자     외국인비율        고령자비율\n",
              "24  송파구  667483.0  660584.0   6899.0  72506.0  1.033584  1050.963908\n",
              "16  강서구  603772.0  597248.0   6524.0  72548.0  1.080540  1112.017167\n",
              "23  강남구  570500.0  565550.0   4950.0  63167.0  0.867660  1276.101010\n",
              "11  노원구  569384.0  565565.0   3819.0  71941.0  0.670725  1883.765384\n",
              "21  관악구  525515.0  507203.0  18312.0  68082.0  3.484582   371.788991\n",
              "12  은평구  494388.0  489943.0   4445.0  72334.0  0.899091  1627.311586\n",
              "15  양천구  479978.0  475949.0   4029.0  52975.0  0.839413  1314.842393"
            ]
          },
          "metadata": {
            "tags": []
          },
          "execution_count": 20
        }
      ]
    },
    {
      "cell_type": "markdown",
      "metadata": {
        "id": "UredxWgEiV93"
      },
      "source": [
        "## 4. CCTV 데이터와 인구 데이터 합치기\n",
        "\n",
        "### 1) 두 데이터프레임에 공통으로 있는 '자치구'열로 merge"
      ]
    },
    {
      "cell_type": "code",
      "metadata": {
        "colab": {
          "base_uri": "https://localhost:8080/",
          "height": 408
        },
        "id": "wMnR9drtiTJe",
        "outputId": "8a8c71a6-665b-40e1-a16e-8b0b478e6ba4"
      },
      "source": [
        "DFM = pd.merge(SDF, SDFP, on = '자치구')\n",
        "DFM.head()"
      ],
      "execution_count": 21,
      "outputs": [
        {
          "output_type": "execute_result",
          "data": {
            "text/html": [
              "<div>\n",
              "<style scoped>\n",
              "    .dataframe tbody tr th:only-of-type {\n",
              "        vertical-align: middle;\n",
              "    }\n",
              "\n",
              "    .dataframe tbody tr th {\n",
              "        vertical-align: top;\n",
              "    }\n",
              "\n",
              "    .dataframe thead th {\n",
              "        text-align: right;\n",
              "    }\n",
              "</style>\n",
              "<table border=\"1\" class=\"dataframe\">\n",
              "  <thead>\n",
              "    <tr style=\"text-align: right;\">\n",
              "      <th></th>\n",
              "      <th>자치구</th>\n",
              "      <th>소계</th>\n",
              "      <th>2013년도 이전</th>\n",
              "      <th>2014년</th>\n",
              "      <th>2015년</th>\n",
              "      <th>2016년</th>\n",
              "      <th>최근증가율</th>\n",
              "      <th>인구수</th>\n",
              "      <th>한국인</th>\n",
              "      <th>외국인</th>\n",
              "      <th>고령자</th>\n",
              "      <th>외국인비율</th>\n",
              "      <th>고령자비율</th>\n",
              "    </tr>\n",
              "  </thead>\n",
              "  <tbody>\n",
              "    <tr>\n",
              "      <th>0</th>\n",
              "      <td>강남구</td>\n",
              "      <td>2780</td>\n",
              "      <td>1292</td>\n",
              "      <td>430</td>\n",
              "      <td>584</td>\n",
              "      <td>932</td>\n",
              "      <td>150.619195</td>\n",
              "      <td>570500.0</td>\n",
              "      <td>565550.0</td>\n",
              "      <td>4950.0</td>\n",
              "      <td>63167.0</td>\n",
              "      <td>0.867660</td>\n",
              "      <td>1276.101010</td>\n",
              "    </tr>\n",
              "    <tr>\n",
              "      <th>1</th>\n",
              "      <td>강동구</td>\n",
              "      <td>773</td>\n",
              "      <td>379</td>\n",
              "      <td>99</td>\n",
              "      <td>155</td>\n",
              "      <td>377</td>\n",
              "      <td>166.490765</td>\n",
              "      <td>453233.0</td>\n",
              "      <td>449019.0</td>\n",
              "      <td>4214.0</td>\n",
              "      <td>54622.0</td>\n",
              "      <td>0.929765</td>\n",
              "      <td>1296.203132</td>\n",
              "    </tr>\n",
              "    <tr>\n",
              "      <th>2</th>\n",
              "      <td>강북구</td>\n",
              "      <td>748</td>\n",
              "      <td>369</td>\n",
              "      <td>120</td>\n",
              "      <td>138</td>\n",
              "      <td>204</td>\n",
              "      <td>125.203252</td>\n",
              "      <td>330192.0</td>\n",
              "      <td>326686.0</td>\n",
              "      <td>3506.0</td>\n",
              "      <td>54813.0</td>\n",
              "      <td>1.061806</td>\n",
              "      <td>1563.405590</td>\n",
              "    </tr>\n",
              "    <tr>\n",
              "      <th>3</th>\n",
              "      <td>강서구</td>\n",
              "      <td>884</td>\n",
              "      <td>388</td>\n",
              "      <td>258</td>\n",
              "      <td>184</td>\n",
              "      <td>81</td>\n",
              "      <td>134.793814</td>\n",
              "      <td>603772.0</td>\n",
              "      <td>597248.0</td>\n",
              "      <td>6524.0</td>\n",
              "      <td>72548.0</td>\n",
              "      <td>1.080540</td>\n",
              "      <td>1112.017167</td>\n",
              "    </tr>\n",
              "    <tr>\n",
              "      <th>4</th>\n",
              "      <td>관악구</td>\n",
              "      <td>1496</td>\n",
              "      <td>846</td>\n",
              "      <td>260</td>\n",
              "      <td>390</td>\n",
              "      <td>613</td>\n",
              "      <td>149.290780</td>\n",
              "      <td>525515.0</td>\n",
              "      <td>507203.0</td>\n",
              "      <td>18312.0</td>\n",
              "      <td>68082.0</td>\n",
              "      <td>3.484582</td>\n",
              "      <td>371.788991</td>\n",
              "    </tr>\n",
              "  </tbody>\n",
              "</table>\n",
              "</div>"
            ],
            "text/plain": [
              "   자치구    소계  2013년도 이전  2014년  ...      외국인      고령자     외국인비율        고령자비율\n",
              "0  강남구  2780       1292    430  ...   4950.0  63167.0  0.867660  1276.101010\n",
              "1  강동구   773        379     99  ...   4214.0  54622.0  0.929765  1296.203132\n",
              "2  강북구   748        369    120  ...   3506.0  54813.0  1.061806  1563.405590\n",
              "3  강서구   884        388    258  ...   6524.0  72548.0  1.080540  1112.017167\n",
              "4  관악구  1496        846    260  ...  18312.0  68082.0  3.484582   371.788991\n",
              "\n",
              "[5 rows x 13 columns]"
            ]
          },
          "metadata": {
            "tags": []
          },
          "execution_count": 21
        }
      ]
    },
    {
      "cell_type": "markdown",
      "metadata": {
        "id": "amXe1s9OinHs"
      },
      "source": [
        "* 불필요한 열 삭제"
      ]
    },
    {
      "cell_type": "code",
      "metadata": {
        "colab": {
          "base_uri": "https://localhost:8080/",
          "height": 204
        },
        "id": "1jKGPZ3KikkO",
        "outputId": "6fe9ae26-9af1-4abc-e28f-ea81aa880934"
      },
      "source": [
        "DFM.drop(columns = ['2013년도 이전', '2014년', '2015년', '2016년'], inplace=True)\n",
        "\n",
        "DFM.head()"
      ],
      "execution_count": 24,
      "outputs": [
        {
          "output_type": "execute_result",
          "data": {
            "text/html": [
              "<div>\n",
              "<style scoped>\n",
              "    .dataframe tbody tr th:only-of-type {\n",
              "        vertical-align: middle;\n",
              "    }\n",
              "\n",
              "    .dataframe tbody tr th {\n",
              "        vertical-align: top;\n",
              "    }\n",
              "\n",
              "    .dataframe thead th {\n",
              "        text-align: right;\n",
              "    }\n",
              "</style>\n",
              "<table border=\"1\" class=\"dataframe\">\n",
              "  <thead>\n",
              "    <tr style=\"text-align: right;\">\n",
              "      <th></th>\n",
              "      <th>자치구</th>\n",
              "      <th>소계</th>\n",
              "      <th>최근증가율</th>\n",
              "      <th>인구수</th>\n",
              "      <th>한국인</th>\n",
              "      <th>외국인</th>\n",
              "      <th>고령자</th>\n",
              "      <th>외국인비율</th>\n",
              "      <th>고령자비율</th>\n",
              "    </tr>\n",
              "  </thead>\n",
              "  <tbody>\n",
              "    <tr>\n",
              "      <th>0</th>\n",
              "      <td>강남구</td>\n",
              "      <td>2780</td>\n",
              "      <td>150.619195</td>\n",
              "      <td>570500.0</td>\n",
              "      <td>565550.0</td>\n",
              "      <td>4950.0</td>\n",
              "      <td>63167.0</td>\n",
              "      <td>0.867660</td>\n",
              "      <td>1276.101010</td>\n",
              "    </tr>\n",
              "    <tr>\n",
              "      <th>1</th>\n",
              "      <td>강동구</td>\n",
              "      <td>773</td>\n",
              "      <td>166.490765</td>\n",
              "      <td>453233.0</td>\n",
              "      <td>449019.0</td>\n",
              "      <td>4214.0</td>\n",
              "      <td>54622.0</td>\n",
              "      <td>0.929765</td>\n",
              "      <td>1296.203132</td>\n",
              "    </tr>\n",
              "    <tr>\n",
              "      <th>2</th>\n",
              "      <td>강북구</td>\n",
              "      <td>748</td>\n",
              "      <td>125.203252</td>\n",
              "      <td>330192.0</td>\n",
              "      <td>326686.0</td>\n",
              "      <td>3506.0</td>\n",
              "      <td>54813.0</td>\n",
              "      <td>1.061806</td>\n",
              "      <td>1563.405590</td>\n",
              "    </tr>\n",
              "    <tr>\n",
              "      <th>3</th>\n",
              "      <td>강서구</td>\n",
              "      <td>884</td>\n",
              "      <td>134.793814</td>\n",
              "      <td>603772.0</td>\n",
              "      <td>597248.0</td>\n",
              "      <td>6524.0</td>\n",
              "      <td>72548.0</td>\n",
              "      <td>1.080540</td>\n",
              "      <td>1112.017167</td>\n",
              "    </tr>\n",
              "    <tr>\n",
              "      <th>4</th>\n",
              "      <td>관악구</td>\n",
              "      <td>1496</td>\n",
              "      <td>149.290780</td>\n",
              "      <td>525515.0</td>\n",
              "      <td>507203.0</td>\n",
              "      <td>18312.0</td>\n",
              "      <td>68082.0</td>\n",
              "      <td>3.484582</td>\n",
              "      <td>371.788991</td>\n",
              "    </tr>\n",
              "  </tbody>\n",
              "</table>\n",
              "</div>"
            ],
            "text/plain": [
              "   자치구    소계       최근증가율       인구수  ...      외국인      고령자     외국인비율        고령자비율\n",
              "0  강남구  2780  150.619195  570500.0  ...   4950.0  63167.0  0.867660  1276.101010\n",
              "1  강동구   773  166.490765  453233.0  ...   4214.0  54622.0  0.929765  1296.203132\n",
              "2  강북구   748  125.203252  330192.0  ...   3506.0  54813.0  1.061806  1563.405590\n",
              "3  강서구   884  134.793814  603772.0  ...   6524.0  72548.0  1.080540  1112.017167\n",
              "4  관악구  1496  149.290780  525515.0  ...  18312.0  68082.0  3.484582   371.788991\n",
              "\n",
              "[5 rows x 9 columns]"
            ]
          },
          "metadata": {
            "tags": []
          },
          "execution_count": 24
        }
      ]
    },
    {
      "cell_type": "markdown",
      "metadata": {
        "id": "RBHKi5WrjdrU"
      },
      "source": [
        "### 3) '자치구'를 index로 지정"
      ]
    },
    {
      "cell_type": "code",
      "metadata": {
        "colab": {
          "base_uri": "https://localhost:8080/",
          "height": 235
        },
        "id": "9T-m0bpoi3H1",
        "outputId": "246e779c-5a6a-4b02-b009-56bba5a79cd7"
      },
      "source": [
        "DFM.set_index('자치구', inplace = True)\n",
        "DFM.head()"
      ],
      "execution_count": 25,
      "outputs": [
        {
          "output_type": "execute_result",
          "data": {
            "text/html": [
              "<div>\n",
              "<style scoped>\n",
              "    .dataframe tbody tr th:only-of-type {\n",
              "        vertical-align: middle;\n",
              "    }\n",
              "\n",
              "    .dataframe tbody tr th {\n",
              "        vertical-align: top;\n",
              "    }\n",
              "\n",
              "    .dataframe thead th {\n",
              "        text-align: right;\n",
              "    }\n",
              "</style>\n",
              "<table border=\"1\" class=\"dataframe\">\n",
              "  <thead>\n",
              "    <tr style=\"text-align: right;\">\n",
              "      <th></th>\n",
              "      <th>소계</th>\n",
              "      <th>최근증가율</th>\n",
              "      <th>인구수</th>\n",
              "      <th>한국인</th>\n",
              "      <th>외국인</th>\n",
              "      <th>고령자</th>\n",
              "      <th>외국인비율</th>\n",
              "      <th>고령자비율</th>\n",
              "    </tr>\n",
              "    <tr>\n",
              "      <th>자치구</th>\n",
              "      <th></th>\n",
              "      <th></th>\n",
              "      <th></th>\n",
              "      <th></th>\n",
              "      <th></th>\n",
              "      <th></th>\n",
              "      <th></th>\n",
              "      <th></th>\n",
              "    </tr>\n",
              "  </thead>\n",
              "  <tbody>\n",
              "    <tr>\n",
              "      <th>강남구</th>\n",
              "      <td>2780</td>\n",
              "      <td>150.619195</td>\n",
              "      <td>570500.0</td>\n",
              "      <td>565550.0</td>\n",
              "      <td>4950.0</td>\n",
              "      <td>63167.0</td>\n",
              "      <td>0.867660</td>\n",
              "      <td>1276.101010</td>\n",
              "    </tr>\n",
              "    <tr>\n",
              "      <th>강동구</th>\n",
              "      <td>773</td>\n",
              "      <td>166.490765</td>\n",
              "      <td>453233.0</td>\n",
              "      <td>449019.0</td>\n",
              "      <td>4214.0</td>\n",
              "      <td>54622.0</td>\n",
              "      <td>0.929765</td>\n",
              "      <td>1296.203132</td>\n",
              "    </tr>\n",
              "    <tr>\n",
              "      <th>강북구</th>\n",
              "      <td>748</td>\n",
              "      <td>125.203252</td>\n",
              "      <td>330192.0</td>\n",
              "      <td>326686.0</td>\n",
              "      <td>3506.0</td>\n",
              "      <td>54813.0</td>\n",
              "      <td>1.061806</td>\n",
              "      <td>1563.405590</td>\n",
              "    </tr>\n",
              "    <tr>\n",
              "      <th>강서구</th>\n",
              "      <td>884</td>\n",
              "      <td>134.793814</td>\n",
              "      <td>603772.0</td>\n",
              "      <td>597248.0</td>\n",
              "      <td>6524.0</td>\n",
              "      <td>72548.0</td>\n",
              "      <td>1.080540</td>\n",
              "      <td>1112.017167</td>\n",
              "    </tr>\n",
              "    <tr>\n",
              "      <th>관악구</th>\n",
              "      <td>1496</td>\n",
              "      <td>149.290780</td>\n",
              "      <td>525515.0</td>\n",
              "      <td>507203.0</td>\n",
              "      <td>18312.0</td>\n",
              "      <td>68082.0</td>\n",
              "      <td>3.484582</td>\n",
              "      <td>371.788991</td>\n",
              "    </tr>\n",
              "  </tbody>\n",
              "</table>\n",
              "</div>"
            ],
            "text/plain": [
              "       소계       최근증가율       인구수  ...      고령자     외국인비율        고령자비율\n",
              "자치구                              ...                                \n",
              "강남구  2780  150.619195  570500.0  ...  63167.0  0.867660  1276.101010\n",
              "강동구   773  166.490765  453233.0  ...  54622.0  0.929765  1296.203132\n",
              "강북구   748  125.203252  330192.0  ...  54813.0  1.061806  1563.405590\n",
              "강서구   884  134.793814  603772.0  ...  72548.0  1.080540  1112.017167\n",
              "관악구  1496  149.290780  525515.0  ...  68082.0  3.484582   371.788991\n",
              "\n",
              "[5 rows x 8 columns]"
            ]
          },
          "metadata": {
            "tags": []
          },
          "execution_count": 25
        }
      ]
    },
    {
      "cell_type": "markdown",
      "metadata": {
        "id": "7H0Xm1S6jmdR"
      },
      "source": [
        "### 4) 상관계수\n",
        "* 고령자비율과 소계의 상관계수 구하기"
      ]
    },
    {
      "cell_type": "code",
      "metadata": {
        "colab": {
          "base_uri": "https://localhost:8080/"
        },
        "id": "9qJ2H0aLjkwV",
        "outputId": "1e8c848c-a8cc-4bfe-d31b-72e9ff11e3d2"
      },
      "source": [
        "import numpy as np\n",
        "\n",
        "print(np.corrcoef(DFM['고령자비율'], DFM['소계']))"
      ],
      "execution_count": 26,
      "outputs": [
        {
          "output_type": "stream",
          "text": [
            "[[1.         0.05922237]\n",
            " [0.05922237 1.        ]]\n"
          ],
          "name": "stdout"
        }
      ]
    },
    {
      "cell_type": "markdown",
      "metadata": {
        "id": "6qdrfhYDj1BT"
      },
      "source": [
        "* 외국인비율과 소계의 상관계수"
      ]
    },
    {
      "cell_type": "code",
      "metadata": {
        "colab": {
          "base_uri": "https://localhost:8080/"
        },
        "id": "tg6PEgO3jz89",
        "outputId": "b73a506e-e7fe-4fc1-8a26-b9fc13e888ce"
      },
      "source": [
        "print(np.corrcoef(DFM['외국인비율'], DFM['소계']))"
      ],
      "execution_count": 28,
      "outputs": [
        {
          "output_type": "stream",
          "text": [
            "[[ 1.         -0.13607433]\n",
            " [-0.13607433  1.        ]]\n"
          ],
          "name": "stdout"
        }
      ]
    },
    {
      "cell_type": "markdown",
      "metadata": {
        "id": "SknPyMcckBbr"
      },
      "source": [
        "* 인구수 vs 소계"
      ]
    },
    {
      "cell_type": "code",
      "metadata": {
        "colab": {
          "base_uri": "https://localhost:8080/"
        },
        "id": "cPJvcAqTj-cN",
        "outputId": "aaf16659-2936-4f80-e47c-b6ceed0c9704"
      },
      "source": [
        "print(np.corrcoef(DFM['인구수'], DFM['소계']))"
      ],
      "execution_count": 29,
      "outputs": [
        {
          "output_type": "stream",
          "text": [
            "[[1.         0.30634228]\n",
            " [0.30634228 1.        ]]\n"
          ],
          "name": "stdout"
        }
      ]
    },
    {
      "cell_type": "markdown",
      "metadata": {
        "id": "Bl3JFwUfkMKn"
      },
      "source": [
        "## 5. 시각화\n",
        "\n",
        "### 1) 막대 그래프 "
      ]
    },
    {
      "cell_type": "code",
      "metadata": {
        "colab": {
          "base_uri": "https://localhost:8080/",
          "height": 592
        },
        "id": "7YfBbxOTkKPl",
        "outputId": "1e7f9b06-3b53-42d3-a7d8-411fa73daccd"
      },
      "source": [
        "import matplotlib.pyplot as plt\n",
        "\n",
        "DFM['소계'].sort_values().plot(kind = 'barh', grid = True, figsize = (10,10))\n",
        "plt.show()"
      ],
      "execution_count": 31,
      "outputs": [
        {
          "output_type": "display_data",
          "data": {
            "image/png": "[encoded data removed]",
            "text/plain": [
              "<Figure size 720x720 with 1 Axes>"
            ]
          },
          "metadata": {
            "tags": [],
            "needs_background": "light"
          }
        }
      ]
    },
    {
      "cell_type": "markdown",
      "metadata": {
        "id": "mNChAdCskwRq"
      },
      "source": [
        "* 인구수 대비 CCTV비율 계산 후 정렬하여 시각화"
      ]
    },
    {
      "cell_type": "code",
      "metadata": {
        "colab": {
          "base_uri": "https://localhost:8080/",
          "height": 592
        },
        "id": "4JLwmJaKkm2O",
        "outputId": "f099bd3f-fc1a-4795-a45d-ee684571df22"
      },
      "source": [
        "DFM['CCTV비율'] = DFM['소계'] / DFM['인구수'] * 100\n",
        "\n",
        "DFM['CCTV비율'].sort_values().plot(kind = 'barh', grid = True, figsize=(10,10))\n",
        "plt.show()"
      ],
      "execution_count": 32,
      "outputs": [
        {
          "output_type": "display_data",
          "data": {
            "image/png": "[encoded data removed]",
            "text/plain": [
              "<Figure size 720x720 with 1 Axes>"
            ]
          },
          "metadata": {
            "tags": [],
            "needs_background": "light"
          }
        }
      ]
    },
    {
      "cell_type": "markdown",
      "metadata": {
        "id": "OscHISd2lJ4G"
      },
      "source": [
        "### 2) 산점도(scatter)\n",
        "* 소계 & 인구수"
      ]
    },
    {
      "cell_type": "code",
      "metadata": {
        "colab": {
          "base_uri": "https://localhost:8080/",
          "height": 388
        },
        "id": "sEQBdypwlIUO",
        "outputId": "a683dd5d-107f-452d-e024-2a1db8f6ae14"
      },
      "source": [
        "plt.figure(figsize = (6,6))\n",
        "plt.scatter(DFM['인구수'], DFM['소계'], s = 50)\n",
        "plt.xlabel('인구수')\n",
        "plt.ylabel('CCTV')\n",
        "plt.grid()\n",
        "plt.show()"
      ],
      "execution_count": 33,
      "outputs": [
        {
          "output_type": "display_data",
          "data": {
            "image/png": "[encoded data removed]",
            "text/plain": [
              "<Figure size 432x432 with 1 Axes>"
            ]
          },
          "metadata": {
            "tags": [],
            "needs_background": "light"
          }
        }
      ]
    },
    {
      "cell_type": "markdown",
      "metadata": {
        "id": "THazdEeQlfNj"
      },
      "source": [
        "### 3) 회귀계수 계산\n"
      ]
    },
    {
      "cell_type": "code",
      "metadata": {
        "colab": {
          "base_uri": "https://localhost:8080/"
        },
        "id": "fKb2r3y-ld0O",
        "outputId": "02458883-ee36-4855-8eee-0f3bccf0fa66"
      },
      "source": [
        "np.set_printoptions(suppress=True)\n",
        "\n",
        "fp1 = np.polyfit(DFM['인구수'], DFM['소계'], 1)\n",
        "\n",
        "fp1"
      ],
      "execution_count": 34,
      "outputs": [
        {
          "output_type": "execute_result",
          "data": {
            "text/plain": [
              "array([  0.00130916, 645.06649658])"
            ]
          },
          "metadata": {
            "tags": []
          },
          "execution_count": 34
        }
      ]
    },
    {
      "cell_type": "markdown",
      "metadata": {
        "id": "Xc38xX6mlvQY"
      },
      "source": [
        "* x축, y축 데이터 계산"
      ]
    },
    {
      "cell_type": "code",
      "metadata": {
        "colab": {
          "base_uri": "https://localhost:8080/"
        },
        "id": "rQyJq2IIlsy-",
        "outputId": "13430787-9df5-4f76-d4c0-bee3c1c7e5c4"
      },
      "source": [
        "f1 = np.poly1d(fp1)\n",
        "print(f1, '\\n')\n",
        "\n",
        "fx = np.linspace(100000, 700000, 100)\n",
        "print(fx)"
      ],
      "execution_count": 35,
      "outputs": [
        {
          "output_type": "stream",
          "text": [
            " \n",
            "0.001309 x + 645.1 \n",
            "\n",
            "[100000.         106060.60606061 112121.21212121 118181.81818182\n",
            " 124242.42424242 130303.03030303 136363.63636364 142424.24242424\n",
            " 148484.84848485 154545.45454545 160606.06060606 166666.66666667\n",
            " 172727.27272727 178787.87878788 184848.48484848 190909.09090909\n",
            " 196969.6969697  203030.3030303  209090.90909091 215151.51515152\n",
            " 221212.12121212 227272.72727273 233333.33333333 239393.93939394\n",
            " 245454.54545455 251515.15151515 257575.75757576 263636.36363636\n",
            " 269696.96969697 275757.57575758 281818.18181818 287878.78787879\n",
            " 293939.39393939 300000.         306060.60606061 312121.21212121\n",
            " 318181.81818182 324242.42424242 330303.03030303 336363.63636364\n",
            " 342424.24242424 348484.84848485 354545.45454545 360606.06060606\n",
            " 366666.66666667 372727.27272727 378787.87878788 384848.48484848\n",
            " 390909.09090909 396969.6969697  403030.3030303  409090.90909091\n",
            " 415151.51515152 421212.12121212 427272.72727273 433333.33333333\n",
            " 439393.93939394 445454.54545455 451515.15151515 457575.75757576\n",
            " 463636.36363636 469696.96969697 475757.57575758 481818.18181818\n",
            " 487878.78787879 493939.39393939 500000.         506060.60606061\n",
            " 512121.21212121 518181.81818182 524242.42424242 530303.03030303\n",
            " 536363.63636364 542424.24242424 548484.84848485 554545.45454545\n",
            " 560606.06060606 566666.66666667 572727.27272727 578787.87878788\n",
            " 584848.48484848 590909.09090909 596969.6969697  603030.3030303\n",
            " 609090.90909091 615151.51515152 621212.12121212 627272.72727273\n",
            " 633333.33333333 639393.93939394 645454.54545455 651515.15151515\n",
            " 657575.75757576 663636.36363636 669696.96969697 675757.57575758\n",
            " 681818.18181818 687878.78787879 693939.39393939 700000.        ]\n"
          ],
          "name": "stdout"
        }
      ]
    },
    {
      "cell_type": "markdown",
      "metadata": {
        "id": "IDo7nSkal6-_"
      },
      "source": [
        "### 4) 회귀선 추가"
      ]
    },
    {
      "cell_type": "code",
      "metadata": {
        "colab": {
          "base_uri": "https://localhost:8080/",
          "height": 606
        },
        "id": "CUhSO0bml5kF",
        "outputId": "de613099-dca8-4c91-a329-b947ae5ff3b2"
      },
      "source": [
        "plt.figure(figsize = (10,10))\n",
        "plt.scatter(DFM['인구수'], DFM['소계'], s = 50)\n",
        "plt.plot(fx, f1(fx), ls='dashed', lw=3, color='g')\n",
        "plt.xlabel('인구수')\n",
        "plt.ylabel('CCTV')\n",
        "plt.grid()\n",
        "plt.show()"
      ],
      "execution_count": 36,
      "outputs": [
        {
          "output_type": "display_data",
          "data": {
            "image/png": "[encoded data removed]",
            "text/plain": [
              "<Figure size 720x720 with 1 Axes>"
            ]
          },
          "metadata": {
            "tags": [],
            "needs_background": "light"
          }
        }
      ]
    },
    {
      "cell_type": "markdown",
      "metadata": {
        "id": "MovJ-BPRmXCf"
      },
      "source": [
        "### 5) 오차 열 추가 후 시각화"
      ]
    },
    {
      "cell_type": "code",
      "metadata": {
        "colab": {
          "base_uri": "https://localhost:8080/",
          "height": 855
        },
        "id": "sGzNwxTZmU8u",
        "outputId": "62523556-c6dc-40b1-cc3c-bb7a5eb96701"
      },
      "source": [
        "DFM['오차'] = np.abs(DFM['소계'] - f1(DFM['인구수']))\n",
        "\n",
        "df_sort = DFM.sort_values(by='오차', ascending=False)\n",
        "\n",
        "DFM"
      ],
      "execution_count": 37,
      "outputs": [
        {
          "output_type": "execute_result",
          "data": {
            "text/html": [
              "<div>\n",
              "<style scoped>\n",
              "    .dataframe tbody tr th:only-of-type {\n",
              "        vertical-align: middle;\n",
              "    }\n",
              "\n",
              "    .dataframe tbody tr th {\n",
              "        vertical-align: top;\n",
              "    }\n",
              "\n",
              "    .dataframe thead th {\n",
              "        text-align: right;\n",
              "    }\n",
              "</style>\n",
              "<table border=\"1\" class=\"dataframe\">\n",
              "  <thead>\n",
              "    <tr style=\"text-align: right;\">\n",
              "      <th></th>\n",
              "      <th>소계</th>\n",
              "      <th>최근증가율</th>\n",
              "      <th>인구수</th>\n",
              "      <th>한국인</th>\n",
              "      <th>외국인</th>\n",
              "      <th>고령자</th>\n",
              "      <th>외국인비율</th>\n",
              "      <th>고령자비율</th>\n",
              "      <th>CCTV비율</th>\n",
              "      <th>오차</th>\n",
              "    </tr>\n",
              "    <tr>\n",
              "      <th>자치구</th>\n",
              "      <th></th>\n",
              "      <th></th>\n",
              "      <th></th>\n",
              "      <th></th>\n",
              "      <th></th>\n",
              "      <th></th>\n",
              "      <th></th>\n",
              "      <th></th>\n",
              "      <th></th>\n",
              "      <th></th>\n",
              "    </tr>\n",
              "  </thead>\n",
              "  <tbody>\n",
              "    <tr>\n",
              "      <th>강남구</th>\n",
              "      <td>2780</td>\n",
              "      <td>150.619195</td>\n",
              "      <td>570500.0</td>\n",
              "      <td>565550.0</td>\n",
              "      <td>4950.0</td>\n",
              "      <td>63167.0</td>\n",
              "      <td>0.867660</td>\n",
              "      <td>1276.101010</td>\n",
              "      <td>0.487292</td>\n",
              "      <td>1388.055355</td>\n",
              "    </tr>\n",
              "    <tr>\n",
              "      <th>강동구</th>\n",
              "      <td>773</td>\n",
              "      <td>166.490765</td>\n",
              "      <td>453233.0</td>\n",
              "      <td>449019.0</td>\n",
              "      <td>4214.0</td>\n",
              "      <td>54622.0</td>\n",
              "      <td>0.929765</td>\n",
              "      <td>1296.203132</td>\n",
              "      <td>0.170552</td>\n",
              "      <td>465.422892</td>\n",
              "    </tr>\n",
              "    <tr>\n",
              "      <th>강북구</th>\n",
              "      <td>748</td>\n",
              "      <td>125.203252</td>\n",
              "      <td>330192.0</td>\n",
              "      <td>326686.0</td>\n",
              "      <td>3506.0</td>\n",
              "      <td>54813.0</td>\n",
              "      <td>1.061806</td>\n",
              "      <td>1563.405590</td>\n",
              "      <td>0.226535</td>\n",
              "      <td>329.342026</td>\n",
              "    </tr>\n",
              "    <tr>\n",
              "      <th>강서구</th>\n",
              "      <td>884</td>\n",
              "      <td>134.793814</td>\n",
              "      <td>603772.0</td>\n",
              "      <td>597248.0</td>\n",
              "      <td>6524.0</td>\n",
              "      <td>72548.0</td>\n",
              "      <td>1.080540</td>\n",
              "      <td>1112.017167</td>\n",
              "      <td>0.146413</td>\n",
              "      <td>551.503155</td>\n",
              "    </tr>\n",
              "    <tr>\n",
              "      <th>관악구</th>\n",
              "      <td>1496</td>\n",
              "      <td>149.290780</td>\n",
              "      <td>525515.0</td>\n",
              "      <td>507203.0</td>\n",
              "      <td>18312.0</td>\n",
              "      <td>68082.0</td>\n",
              "      <td>3.484582</td>\n",
              "      <td>371.788991</td>\n",
              "      <td>0.284673</td>\n",
              "      <td>162.948104</td>\n",
              "    </tr>\n",
              "    <tr>\n",
              "      <th>광진구</th>\n",
              "      <td>707</td>\n",
              "      <td>53.228621</td>\n",
              "      <td>372164.0</td>\n",
              "      <td>357211.0</td>\n",
              "      <td>14953.0</td>\n",
              "      <td>42214.0</td>\n",
              "      <td>4.017852</td>\n",
              "      <td>282.311242</td>\n",
              "      <td>0.189970</td>\n",
              "      <td>425.290264</td>\n",
              "    </tr>\n",
              "    <tr>\n",
              "      <th>구로구</th>\n",
              "      <td>1561</td>\n",
              "      <td>64.973730</td>\n",
              "      <td>447874.0</td>\n",
              "      <td>416487.0</td>\n",
              "      <td>31387.0</td>\n",
              "      <td>56833.0</td>\n",
              "      <td>7.007998</td>\n",
              "      <td>181.071781</td>\n",
              "      <td>0.348536</td>\n",
              "      <td>329.592918</td>\n",
              "    </tr>\n",
              "    <tr>\n",
              "      <th>금천구</th>\n",
              "      <td>1015</td>\n",
              "      <td>100.000000</td>\n",
              "      <td>255082.0</td>\n",
              "      <td>236353.0</td>\n",
              "      <td>18729.0</td>\n",
              "      <td>32970.0</td>\n",
              "      <td>7.342345</td>\n",
              "      <td>176.037162</td>\n",
              "      <td>0.397911</td>\n",
              "      <td>35.989293</td>\n",
              "    </tr>\n",
              "    <tr>\n",
              "      <th>노원구</th>\n",
              "      <td>1265</td>\n",
              "      <td>188.929889</td>\n",
              "      <td>569384.0</td>\n",
              "      <td>565565.0</td>\n",
              "      <td>3819.0</td>\n",
              "      <td>71941.0</td>\n",
              "      <td>0.670725</td>\n",
              "      <td>1883.765384</td>\n",
              "      <td>0.222170</td>\n",
              "      <td>125.483618</td>\n",
              "    </tr>\n",
              "    <tr>\n",
              "      <th>도봉구</th>\n",
              "      <td>485</td>\n",
              "      <td>246.638655</td>\n",
              "      <td>348646.0</td>\n",
              "      <td>346629.0</td>\n",
              "      <td>2017.0</td>\n",
              "      <td>51312.0</td>\n",
              "      <td>0.578524</td>\n",
              "      <td>2543.976202</td>\n",
              "      <td>0.139110</td>\n",
              "      <td>616.501341</td>\n",
              "    </tr>\n",
              "    <tr>\n",
              "      <th>동대문구</th>\n",
              "      <td>1294</td>\n",
              "      <td>74.766355</td>\n",
              "      <td>369496.0</td>\n",
              "      <td>354079.0</td>\n",
              "      <td>15417.0</td>\n",
              "      <td>54173.0</td>\n",
              "      <td>4.172440</td>\n",
              "      <td>351.384835</td>\n",
              "      <td>0.350207</td>\n",
              "      <td>165.202586</td>\n",
              "    </tr>\n",
              "    <tr>\n",
              "      <th>동작구</th>\n",
              "      <td>1091</td>\n",
              "      <td>139.338235</td>\n",
              "      <td>412520.0</td>\n",
              "      <td>400456.0</td>\n",
              "      <td>12064.0</td>\n",
              "      <td>56013.0</td>\n",
              "      <td>2.924464</td>\n",
              "      <td>464.298740</td>\n",
              "      <td>0.264472</td>\n",
              "      <td>94.122892</td>\n",
              "    </tr>\n",
              "    <tr>\n",
              "      <th>마포구</th>\n",
              "      <td>574</td>\n",
              "      <td>212.101911</td>\n",
              "      <td>389649.0</td>\n",
              "      <td>378566.0</td>\n",
              "      <td>11083.0</td>\n",
              "      <td>48765.0</td>\n",
              "      <td>2.844355</td>\n",
              "      <td>439.998195</td>\n",
              "      <td>0.147312</td>\n",
              "      <td>581.180999</td>\n",
              "    </tr>\n",
              "    <tr>\n",
              "      <th>서대문구</th>\n",
              "      <td>962</td>\n",
              "      <td>48.578199</td>\n",
              "      <td>327163.0</td>\n",
              "      <td>314982.0</td>\n",
              "      <td>12181.0</td>\n",
              "      <td>48161.0</td>\n",
              "      <td>3.723221</td>\n",
              "      <td>395.378048</td>\n",
              "      <td>0.294043</td>\n",
              "      <td>111.376568</td>\n",
              "    </tr>\n",
              "    <tr>\n",
              "      <th>서초구</th>\n",
              "      <td>1930</td>\n",
              "      <td>63.371266</td>\n",
              "      <td>450310.0</td>\n",
              "      <td>445994.0</td>\n",
              "      <td>4316.0</td>\n",
              "      <td>51733.0</td>\n",
              "      <td>0.958451</td>\n",
              "      <td>1198.632994</td>\n",
              "      <td>0.428594</td>\n",
              "      <td>695.403794</td>\n",
              "    </tr>\n",
              "    <tr>\n",
              "      <th>성동구</th>\n",
              "      <td>1062</td>\n",
              "      <td>81.780822</td>\n",
              "      <td>311244.0</td>\n",
              "      <td>303380.0</td>\n",
              "      <td>7864.0</td>\n",
              "      <td>39997.0</td>\n",
              "      <td>2.526635</td>\n",
              "      <td>508.608850</td>\n",
              "      <td>0.341211</td>\n",
              "      <td>9.464016</td>\n",
              "    </tr>\n",
              "    <tr>\n",
              "      <th>성북구</th>\n",
              "      <td>1464</td>\n",
              "      <td>63.627354</td>\n",
              "      <td>461260.0</td>\n",
              "      <td>449773.0</td>\n",
              "      <td>11487.0</td>\n",
              "      <td>64692.0</td>\n",
              "      <td>2.490353</td>\n",
              "      <td>563.175764</td>\n",
              "      <td>0.317391</td>\n",
              "      <td>215.068447</td>\n",
              "    </tr>\n",
              "    <tr>\n",
              "      <th>송파구</th>\n",
              "      <td>618</td>\n",
              "      <td>104.347826</td>\n",
              "      <td>667483.0</td>\n",
              "      <td>660584.0</td>\n",
              "      <td>6899.0</td>\n",
              "      <td>72506.0</td>\n",
              "      <td>1.033584</td>\n",
              "      <td>1050.963908</td>\n",
              "      <td>0.092587</td>\n",
              "      <td>900.911312</td>\n",
              "    </tr>\n",
              "    <tr>\n",
              "      <th>양천구</th>\n",
              "      <td>2034</td>\n",
              "      <td>34.671731</td>\n",
              "      <td>479978.0</td>\n",
              "      <td>475949.0</td>\n",
              "      <td>4029.0</td>\n",
              "      <td>52975.0</td>\n",
              "      <td>0.839413</td>\n",
              "      <td>1314.842393</td>\n",
              "      <td>0.423769</td>\n",
              "      <td>760.563512</td>\n",
              "    </tr>\n",
              "    <tr>\n",
              "      <th>영등포구</th>\n",
              "      <td>904</td>\n",
              "      <td>157.979798</td>\n",
              "      <td>402985.0</td>\n",
              "      <td>368072.0</td>\n",
              "      <td>34913.0</td>\n",
              "      <td>52413.0</td>\n",
              "      <td>8.663598</td>\n",
              "      <td>150.124595</td>\n",
              "      <td>0.224326</td>\n",
              "      <td>268.640012</td>\n",
              "    </tr>\n",
              "    <tr>\n",
              "      <th>용산구</th>\n",
              "      <td>1624</td>\n",
              "      <td>53.216374</td>\n",
              "      <td>244203.0</td>\n",
              "      <td>229456.0</td>\n",
              "      <td>14747.0</td>\n",
              "      <td>36231.0</td>\n",
              "      <td>6.038828</td>\n",
              "      <td>245.683868</td>\n",
              "      <td>0.665020</td>\n",
              "      <td>659.231690</td>\n",
              "    </tr>\n",
              "    <tr>\n",
              "      <th>은평구</th>\n",
              "      <td>1873</td>\n",
              "      <td>85.237258</td>\n",
              "      <td>494388.0</td>\n",
              "      <td>489943.0</td>\n",
              "      <td>4445.0</td>\n",
              "      <td>72334.0</td>\n",
              "      <td>0.899091</td>\n",
              "      <td>1627.311586</td>\n",
              "      <td>0.378852</td>\n",
              "      <td>580.698457</td>\n",
              "    </tr>\n",
              "    <tr>\n",
              "      <th>종로구</th>\n",
              "      <td>1002</td>\n",
              "      <td>248.922414</td>\n",
              "      <td>162820.0</td>\n",
              "      <td>153589.0</td>\n",
              "      <td>9231.0</td>\n",
              "      <td>25425.0</td>\n",
              "      <td>5.669451</td>\n",
              "      <td>275.430614</td>\n",
              "      <td>0.615404</td>\n",
              "      <td>143.775396</td>\n",
              "    </tr>\n",
              "    <tr>\n",
              "      <th>중구</th>\n",
              "      <td>671</td>\n",
              "      <td>147.699758</td>\n",
              "      <td>133240.0</td>\n",
              "      <td>124312.0</td>\n",
              "      <td>8928.0</td>\n",
              "      <td>20764.0</td>\n",
              "      <td>6.700690</td>\n",
              "      <td>232.571685</td>\n",
              "      <td>0.503603</td>\n",
              "      <td>148.499528</td>\n",
              "    </tr>\n",
              "    <tr>\n",
              "      <th>중랑구</th>\n",
              "      <td>660</td>\n",
              "      <td>79.960707</td>\n",
              "      <td>414503.0</td>\n",
              "      <td>409882.0</td>\n",
              "      <td>4621.0</td>\n",
              "      <td>56774.0</td>\n",
              "      <td>1.114829</td>\n",
              "      <td>1228.608526</td>\n",
              "      <td>0.159227</td>\n",
              "      <td>527.718965</td>\n",
              "    </tr>\n",
              "  </tbody>\n",
              "</table>\n",
              "</div>"
            ],
            "text/plain": [
              "        소계       최근증가율       인구수  ...        고령자비율    CCTV비율           오차\n",
              "자치구                               ...                                    \n",
              "강남구   2780  150.619195  570500.0  ...  1276.101010  0.487292  1388.055355\n",
              "강동구    773  166.490765  453233.0  ...  1296.203132  0.170552   465.422892\n",
              "강북구    748  125.203252  330192.0  ...  1563.405590  0.226535   329.342026\n",
              "강서구    884  134.793814  603772.0  ...  1112.017167  0.146413   551.503155\n",
              "관악구   1496  149.290780  525515.0  ...   371.788991  0.284673   162.948104\n",
              "광진구    707   53.228621  372164.0  ...   282.311242  0.189970   425.290264\n",
              "구로구   1561   64.973730  447874.0  ...   181.071781  0.348536   329.592918\n",
              "금천구   1015  100.000000  255082.0  ...   176.037162  0.397911    35.989293\n",
              "노원구   1265  188.929889  569384.0  ...  1883.765384  0.222170   125.483618\n",
              "도봉구    485  246.638655  348646.0  ...  2543.976202  0.139110   616.501341\n",
              "동대문구  1294   74.766355  369496.0  ...   351.384835  0.350207   165.202586\n",
              "동작구   1091  139.338235  412520.0  ...   464.298740  0.264472    94.122892\n",
              "마포구    574  212.101911  389649.0  ...   439.998195  0.147312   581.180999\n",
              "서대문구   962   48.578199  327163.0  ...   395.378048  0.294043   111.376568\n",
              "서초구   1930   63.371266  450310.0  ...  1198.632994  0.428594   695.403794\n",
              "성동구   1062   81.780822  311244.0  ...   508.608850  0.341211     9.464016\n",
              "성북구   1464   63.627354  461260.0  ...   563.175764  0.317391   215.068447\n",
              "송파구    618  104.347826  667483.0  ...  1050.963908  0.092587   900.911312\n",
              "양천구   2034   34.671731  479978.0  ...  1314.842393  0.423769   760.563512\n",
              "영등포구   904  157.979798  402985.0  ...   150.124595  0.224326   268.640012\n",
              "용산구   1624   53.216374  244203.0  ...   245.683868  0.665020   659.231690\n",
              "은평구   1873   85.237258  494388.0  ...  1627.311586  0.378852   580.698457\n",
              "종로구   1002  248.922414  162820.0  ...   275.430614  0.615404   143.775396\n",
              "중구     671  147.699758  133240.0  ...   232.571685  0.503603   148.499528\n",
              "중랑구    660   79.960707  414503.0  ...  1228.608526  0.159227   527.718965\n",
              "\n",
              "[25 rows x 10 columns]"
            ]
          },
          "metadata": {
            "tags": []
          },
          "execution_count": 37
        }
      ]
    },
    {
      "cell_type": "markdown",
      "metadata": {
        "id": "mUw4i4FbmwRw"
      },
      "source": [
        "**최종 시각화**"
      ]
    },
    {
      "cell_type": "code",
      "metadata": {
        "colab": {
          "base_uri": "https://localhost:8080/",
          "height": 606
        },
        "id": "ZWYI22tamuke",
        "outputId": "4c09a970-248a-43ed-b628-08f4cfaee2f2"
      },
      "source": [
        "plt.figure(figsize = (14,10))\n",
        "plt.scatter(DFM['인구수'], DFM['소계'], c=DFM['오차'], s = 50)\n",
        "plt.plot(fx, f1(fx), ls = 'dashed', lw=3, color = 'g')\n",
        "\n",
        "for n in range(10):\n",
        "    plt.text(df_sort['인구수'][n]*1.02, df_sort['소계'][n] * 0.98, df_sort.index[n], fontsize = 15)\n",
        "\n",
        "plt.xlabel('인구수')\n",
        "plt.ylabel('인구당 비율')\n",
        "plt.colorbar()\n",
        "plt.grid()\n",
        "plt.show()"
      ],
      "execution_count": 41,
      "outputs": [
        {
          "output_type": "display_data",
          "data": {
            "image/png": "[encoded data removed]",
            "text/plain": [
              "<Figure size 1008x720 with 2 Axes>"
            ]
          },
          "metadata": {
            "tags": [],
            "needs_background": "light"
          }
        }
      ]
    },
    {
      "cell_type": "code",
      "metadata": {
        "id": "mSQr4ujanazH"
      },
      "source": [
        ""
      ],
      "execution_count": null,
      "outputs": []
    }
  ]
}